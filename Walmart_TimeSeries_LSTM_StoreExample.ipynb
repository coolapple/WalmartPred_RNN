{
 "cells": [
  {
   "cell_type": "markdown",
   "metadata": {
    "colab_type": "text",
    "id": "ykCoO95K2yIt"
   },
   "source": [
    "# Walmart Sales Projection using Recurrent Neural Network -One Store\n",
    "\n",
    "1. Show data cleaning and preparation steps\n",
    "\n",
    "2. Perform EDA on the given dataset and list out findings ( performed on previous report on week 3)\n",
    "\n",
    "3. Predict the sales projection with multivariate recurrent neural network algorithms - Use R square and MAE as metrics and provide best possible accuracy. (98% accuray and MAE of 2K-2.5K)\n",
    "\n"
   ]
  },
  {
   "cell_type": "code",
   "execution_count": 146,
   "metadata": {
    "colab": {
     "base_uri": "https://localhost:8080/",
     "height": 33
    },
    "colab_type": "code",
    "id": "q9iKF0uG25RO",
    "outputId": "3b6aa7de-86fb-4d79-9cdc-5a15cb992d04"
   },
   "outputs": [
    {
     "data": {
      "text/plain": [
       "'/content'"
      ]
     },
     "execution_count": 146,
     "metadata": {
      "tags": []
     },
     "output_type": "execute_result"
    }
   ],
   "source": [
    "# Importing neccessary Packages\n",
    "import numpy as np\n",
    "import pandas as pd\n",
    "import matplotlib.pyplot as plt\n",
    "import random as rd\n",
    "\n",
    "import seaborn as sns\n",
    "import os\n",
    "from scipy import stats\n",
    "%matplotlib inline\n",
    "#import datetime\n",
    "\n",
    "os.getcwd()"
   ]
  },
  {
   "cell_type": "code",
   "execution_count": 2,
   "metadata": {
    "colab": {
     "base_uri": "https://localhost:8080/",
     "height": 241,
     "resources": {
      "http://localhost:8080/nbextensions/google.colab/files.js": {
       "data": "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",
       "headers": [
        [
         "content-type",
         "application/javascript"
        ]
       ],
       "ok": true,
       "status": 200,
       "status_text": ""
      }
     }
    },
    "colab_type": "code",
    "id": "F4a9V4XZ3Sjq",
    "outputId": "320fe1e9-a654-41bf-fb1d-1725424d57bc"
   },
   "outputs": [
    {
     "data": {
      "text/html": [
       "\n",
       "     <input type=\"file\" id=\"files-d067a849-793c-47d1-b71e-dd0f0456dac5\" name=\"files[]\" multiple disabled />\n",
       "     <output id=\"result-d067a849-793c-47d1-b71e-dd0f0456dac5\">\n",
       "      Upload widget is only available when the cell has been executed in the\n",
       "      current browser session. Please rerun this cell to enable.\n",
       "      </output>\n",
       "      <script src=\"/nbextensions/google.colab/files.js\"></script> "
      ],
      "text/plain": [
       "<IPython.core.display.HTML object>"
      ]
     },
     "metadata": {
      "tags": []
     },
     "output_type": "display_data"
    },
    {
     "name": "stdout",
     "output_type": "stream",
     "text": [
      "Saving stores.csv to stores.csv\n",
      "Saving test.csv to test.csv\n",
      "Saving train.csv to train.csv\n",
      "Saving walmart features.csv to walmart features.csv\n",
      "User uploaded file \"stores.csv\" with length 1027 bytes\n",
      "User uploaded file \"test.csv\" with length 4110769 bytes\n",
      "User uploaded file \"train.csv\" with length 16828140 bytes\n",
      "User uploaded file \"walmart features.csv\" with length 680783 bytes\n"
     ]
    }
   ],
   "source": [
    "# import data from local\n",
    "from google.colab import files\n",
    "\n",
    "uploaded = files.upload()\n",
    "\n",
    "for fn in uploaded.keys():\n",
    "  print('User uploaded file \"{name}\" with length {length} bytes'.format(\n",
    "      name=fn, length=len(uploaded[fn])))"
   ]
  },
  {
   "cell_type": "markdown",
   "metadata": {
    "colab_type": "text",
    "id": "MGLZIFmP4Ix1"
   },
   "source": [
    "# 1. Data Cleaning and preparation steps"
   ]
  },
  {
   "cell_type": "code",
   "execution_count": 0,
   "metadata": {
    "colab": {},
    "colab_type": "code",
    "id": "cbuo1tSX4JWm"
   },
   "outputs": [],
   "source": [
    "# Load dataset\n",
    "data_features = pd.read_csv('walmart features.csv')\n",
    "data_stores = pd.read_csv('stores.csv')\n",
    "data_training = pd.read_csv('train.csv')\n",
    "data_test = pd.read_csv('test.csv')"
   ]
  },
  {
   "cell_type": "code",
   "execution_count": 477,
   "metadata": {
    "colab": {
     "base_uri": "https://localhost:8080/",
     "height": 196
    },
    "colab_type": "code",
    "id": "9v_s0tDt4MX1",
    "outputId": "da693f2c-b696-4fec-9eb1-93969c332328"
   },
   "outputs": [
    {
     "data": {
      "text/html": [
       "<div>\n",
       "<style scoped>\n",
       "    .dataframe tbody tr th:only-of-type {\n",
       "        vertical-align: middle;\n",
       "    }\n",
       "\n",
       "    .dataframe tbody tr th {\n",
       "        vertical-align: top;\n",
       "    }\n",
       "\n",
       "    .dataframe thead th {\n",
       "        text-align: right;\n",
       "    }\n",
       "</style>\n",
       "<table border=\"1\" class=\"dataframe\">\n",
       "  <thead>\n",
       "    <tr style=\"text-align: right;\">\n",
       "      <th></th>\n",
       "      <th>Unnamed: 0</th>\n",
       "      <th>index</th>\n",
       "      <th>Store</th>\n",
       "      <th>Dept</th>\n",
       "      <th>Date</th>\n",
       "      <th>Weekly_Sales</th>\n",
       "      <th>IsHoliday</th>\n",
       "    </tr>\n",
       "  </thead>\n",
       "  <tbody>\n",
       "    <tr>\n",
       "      <th>0</th>\n",
       "      <td>1</td>\n",
       "      <td>0.0</td>\n",
       "      <td>1</td>\n",
       "      <td>1</td>\n",
       "      <td>2/5/2010</td>\n",
       "      <td>24924.50</td>\n",
       "      <td>0</td>\n",
       "    </tr>\n",
       "    <tr>\n",
       "      <th>1</th>\n",
       "      <td>2</td>\n",
       "      <td>1.0</td>\n",
       "      <td>1</td>\n",
       "      <td>1</td>\n",
       "      <td>2/12/2010</td>\n",
       "      <td>46039.49</td>\n",
       "      <td>1</td>\n",
       "    </tr>\n",
       "    <tr>\n",
       "      <th>2</th>\n",
       "      <td>3</td>\n",
       "      <td>2.0</td>\n",
       "      <td>1</td>\n",
       "      <td>1</td>\n",
       "      <td>2/19/2010</td>\n",
       "      <td>41595.55</td>\n",
       "      <td>0</td>\n",
       "    </tr>\n",
       "    <tr>\n",
       "      <th>3</th>\n",
       "      <td>4</td>\n",
       "      <td>3.0</td>\n",
       "      <td>1</td>\n",
       "      <td>1</td>\n",
       "      <td>2/26/2010</td>\n",
       "      <td>19403.54</td>\n",
       "      <td>0</td>\n",
       "    </tr>\n",
       "    <tr>\n",
       "      <th>4</th>\n",
       "      <td>5</td>\n",
       "      <td>4.0</td>\n",
       "      <td>1</td>\n",
       "      <td>1</td>\n",
       "      <td>3/5/2010</td>\n",
       "      <td>21827.90</td>\n",
       "      <td>0</td>\n",
       "    </tr>\n",
       "  </tbody>\n",
       "</table>\n",
       "</div>"
      ],
      "text/plain": [
       "   Unnamed: 0  index  Store  Dept       Date  Weekly_Sales  IsHoliday\n",
       "0           1    0.0      1     1   2/5/2010      24924.50          0\n",
       "1           2    1.0      1     1  2/12/2010      46039.49          1\n",
       "2           3    2.0      1     1  2/19/2010      41595.55          0\n",
       "3           4    3.0      1     1  2/26/2010      19403.54          0\n",
       "4           5    4.0      1     1   3/5/2010      21827.90          0"
      ]
     },
     "execution_count": 477,
     "metadata": {
      "tags": []
     },
     "output_type": "execute_result"
    }
   ],
   "source": [
    "pd.set_option('display.max_columns', 100)\n",
    "pd.set_option('display.max_row', 100)\n",
    "data_training.head()"
   ]
  },
  {
   "cell_type": "code",
   "execution_count": 478,
   "metadata": {
    "colab": {
     "base_uri": "https://localhost:8080/",
     "height": 33
    },
    "colab_type": "code",
    "id": "sTg5YNpI5Nw8",
    "outputId": "d2688e75-8157-4b50-c402-179899aded19"
   },
   "outputs": [
    {
     "data": {
      "text/plain": [
       "(421570, 7)"
      ]
     },
     "execution_count": 478,
     "metadata": {
      "tags": []
     },
     "output_type": "execute_result"
    }
   ],
   "source": [
    "data_training.shape"
   ]
  },
  {
   "cell_type": "code",
   "execution_count": 479,
   "metadata": {
    "colab": {
     "base_uri": "https://localhost:8080/",
     "height": 150
    },
    "colab_type": "code",
    "id": "DY_8HufR5gcP",
    "outputId": "b0682d2a-9115-4fa6-bb95-326c845218f2"
   },
   "outputs": [
    {
     "data": {
      "text/plain": [
       "Unnamed: 0        int64\n",
       "index           float64\n",
       "Store             int64\n",
       "Dept              int64\n",
       "Date             object\n",
       "Weekly_Sales    float64\n",
       "IsHoliday         int64\n",
       "dtype: object"
      ]
     },
     "execution_count": 479,
     "metadata": {
      "tags": []
     },
     "output_type": "execute_result"
    }
   ],
   "source": [
    "data_training.dtypes"
   ]
  },
  {
   "cell_type": "code",
   "execution_count": 480,
   "metadata": {
    "colab": {
     "base_uri": "https://localhost:8080/",
     "height": 150
    },
    "colab_type": "code",
    "id": "wNZxgEHnxygr",
    "outputId": "93dbcfa2-bd85-4811-9aab-fb445eefe338"
   },
   "outputs": [
    {
     "data": {
      "text/plain": [
       "Unnamed: 0      421570\n",
       "index           421570\n",
       "Store               45\n",
       "Dept                81\n",
       "Date               143\n",
       "Weekly_Sales    359455\n",
       "IsHoliday            2\n",
       "dtype: int64"
      ]
     },
     "execution_count": 480,
     "metadata": {
      "tags": []
     },
     "output_type": "execute_result"
    }
   ],
   "source": [
    "data_training.nunique()"
   ]
  },
  {
   "cell_type": "code",
   "execution_count": 0,
   "metadata": {
    "colab": {},
    "colab_type": "code",
    "id": "ieXnZNtP44z6"
   },
   "outputs": [],
   "source": [
    "data_training = data_training.iloc[:,1:]\n",
    "data_features = data_features.iloc[:,2:]\n",
    "data_stores = data_stores.iloc[:,1:]\n"
   ]
  },
  {
   "cell_type": "code",
   "execution_count": 0,
   "metadata": {
    "colab": {},
    "colab_type": "code",
    "id": "S57Ego775AAj"
   },
   "outputs": [],
   "source": [
    "data_training['Date'] = pd.to_datetime(data_training['Date'])\n",
    "data_features['Date'] = pd.to_datetime(data_features['Date'])\n",
    "#data_training['Category'] = 'Train'\n",
    "#data_test['Category'] = 'Test'\n",
    "#data_test['Weekly_Sales'] = 0\n"
   ]
  },
  {
   "cell_type": "code",
   "execution_count": 0,
   "metadata": {
    "colab": {},
    "colab_type": "code",
    "id": "Chu5Gz29IN0t"
   },
   "outputs": [],
   "source": [
    "data_features['CPI'].fillna(data_features['CPI'].mean(), inplace=True)\n",
    "data_features['Unemployment'].fillna(data_features['Unemployment'].mean(), inplace=True)"
   ]
  },
  {
   "cell_type": "code",
   "execution_count": 484,
   "metadata": {
    "colab": {
     "base_uri": "https://localhost:8080/",
     "height": 196
    },
    "colab_type": "code",
    "id": "iRJT6hWT5UZl",
    "outputId": "2016ff84-b616-4b1d-88fc-7f4e09b5b940"
   },
   "outputs": [
    {
     "data": {
      "text/html": [
       "<div>\n",
       "<style scoped>\n",
       "    .dataframe tbody tr th:only-of-type {\n",
       "        vertical-align: middle;\n",
       "    }\n",
       "\n",
       "    .dataframe tbody tr th {\n",
       "        vertical-align: top;\n",
       "    }\n",
       "\n",
       "    .dataframe thead th {\n",
       "        text-align: right;\n",
       "    }\n",
       "</style>\n",
       "<table border=\"1\" class=\"dataframe\">\n",
       "  <thead>\n",
       "    <tr style=\"text-align: right;\">\n",
       "      <th></th>\n",
       "      <th>Store</th>\n",
       "      <th>Date</th>\n",
       "      <th>Temperature</th>\n",
       "      <th>Fuel_Price</th>\n",
       "      <th>CPI</th>\n",
       "      <th>Unemployment</th>\n",
       "      <th>IsHoliday</th>\n",
       "    </tr>\n",
       "  </thead>\n",
       "  <tbody>\n",
       "    <tr>\n",
       "      <th>0</th>\n",
       "      <td>1</td>\n",
       "      <td>2010-02-05</td>\n",
       "      <td>42.31</td>\n",
       "      <td>2.572</td>\n",
       "      <td>211.096358</td>\n",
       "      <td>8.106</td>\n",
       "      <td>0</td>\n",
       "    </tr>\n",
       "    <tr>\n",
       "      <th>1</th>\n",
       "      <td>1</td>\n",
       "      <td>2010-02-12</td>\n",
       "      <td>38.51</td>\n",
       "      <td>2.548</td>\n",
       "      <td>211.242170</td>\n",
       "      <td>8.106</td>\n",
       "      <td>1</td>\n",
       "    </tr>\n",
       "    <tr>\n",
       "      <th>2</th>\n",
       "      <td>1</td>\n",
       "      <td>2010-02-19</td>\n",
       "      <td>39.93</td>\n",
       "      <td>2.514</td>\n",
       "      <td>211.289143</td>\n",
       "      <td>8.106</td>\n",
       "      <td>0</td>\n",
       "    </tr>\n",
       "    <tr>\n",
       "      <th>3</th>\n",
       "      <td>1</td>\n",
       "      <td>2010-02-26</td>\n",
       "      <td>46.63</td>\n",
       "      <td>2.561</td>\n",
       "      <td>211.319643</td>\n",
       "      <td>8.106</td>\n",
       "      <td>0</td>\n",
       "    </tr>\n",
       "    <tr>\n",
       "      <th>4</th>\n",
       "      <td>1</td>\n",
       "      <td>2010-03-05</td>\n",
       "      <td>46.50</td>\n",
       "      <td>2.625</td>\n",
       "      <td>211.350143</td>\n",
       "      <td>8.106</td>\n",
       "      <td>0</td>\n",
       "    </tr>\n",
       "  </tbody>\n",
       "</table>\n",
       "</div>"
      ],
      "text/plain": [
       "   Store       Date  Temperature  Fuel_Price         CPI  Unemployment  \\\n",
       "0      1 2010-02-05        42.31       2.572  211.096358         8.106   \n",
       "1      1 2010-02-12        38.51       2.548  211.242170         8.106   \n",
       "2      1 2010-02-19        39.93       2.514  211.289143         8.106   \n",
       "3      1 2010-02-26        46.63       2.561  211.319643         8.106   \n",
       "4      1 2010-03-05        46.50       2.625  211.350143         8.106   \n",
       "\n",
       "   IsHoliday  \n",
       "0          0  \n",
       "1          1  \n",
       "2          0  \n",
       "3          0  \n",
       "4          0  "
      ]
     },
     "execution_count": 484,
     "metadata": {
      "tags": []
     },
     "output_type": "execute_result"
    }
   ],
   "source": [
    "data_features.drop(columns = ['MarkDown1', 'MarkDown2', 'MarkDown3', 'MarkDown4', 'MarkDown5'], axis = 1, inplace=True)\n",
    "data_features.head()\n"
   ]
  },
  {
   "cell_type": "code",
   "execution_count": 485,
   "metadata": {
    "colab": {
     "base_uri": "https://localhost:8080/",
     "height": 196
    },
    "colab_type": "code",
    "id": "pVvwN5pH7s0j",
    "outputId": "5adef232-812c-4d45-bc97-e5cecb603df2"
   },
   "outputs": [
    {
     "data": {
      "text/html": [
       "<div>\n",
       "<style scoped>\n",
       "    .dataframe tbody tr th:only-of-type {\n",
       "        vertical-align: middle;\n",
       "    }\n",
       "\n",
       "    .dataframe tbody tr th {\n",
       "        vertical-align: top;\n",
       "    }\n",
       "\n",
       "    .dataframe thead th {\n",
       "        text-align: right;\n",
       "    }\n",
       "</style>\n",
       "<table border=\"1\" class=\"dataframe\">\n",
       "  <thead>\n",
       "    <tr style=\"text-align: right;\">\n",
       "      <th></th>\n",
       "      <th>index</th>\n",
       "      <th>Store</th>\n",
       "      <th>Type</th>\n",
       "      <th>Size</th>\n",
       "    </tr>\n",
       "  </thead>\n",
       "  <tbody>\n",
       "    <tr>\n",
       "      <th>0</th>\n",
       "      <td>0</td>\n",
       "      <td>1</td>\n",
       "      <td>A</td>\n",
       "      <td>151315</td>\n",
       "    </tr>\n",
       "    <tr>\n",
       "      <th>1</th>\n",
       "      <td>1</td>\n",
       "      <td>2</td>\n",
       "      <td>A</td>\n",
       "      <td>202307</td>\n",
       "    </tr>\n",
       "    <tr>\n",
       "      <th>2</th>\n",
       "      <td>2</td>\n",
       "      <td>3</td>\n",
       "      <td>B</td>\n",
       "      <td>37392</td>\n",
       "    </tr>\n",
       "    <tr>\n",
       "      <th>3</th>\n",
       "      <td>3</td>\n",
       "      <td>4</td>\n",
       "      <td>A</td>\n",
       "      <td>205863</td>\n",
       "    </tr>\n",
       "    <tr>\n",
       "      <th>4</th>\n",
       "      <td>4</td>\n",
       "      <td>5</td>\n",
       "      <td>B</td>\n",
       "      <td>34875</td>\n",
       "    </tr>\n",
       "  </tbody>\n",
       "</table>\n",
       "</div>"
      ],
      "text/plain": [
       "   index  Store Type    Size\n",
       "0      0      1    A  151315\n",
       "1      1      2    A  202307\n",
       "2      2      3    B   37392\n",
       "3      3      4    A  205863\n",
       "4      4      5    B   34875"
      ]
     },
     "execution_count": 485,
     "metadata": {
      "tags": []
     },
     "output_type": "execute_result"
    }
   ],
   "source": [
    "data_stores.head()"
   ]
  },
  {
   "cell_type": "code",
   "execution_count": 486,
   "metadata": {
    "colab": {
     "base_uri": "https://localhost:8080/",
     "height": 401
    },
    "colab_type": "code",
    "id": "5AIHV9SV5ZvU",
    "outputId": "06e73d43-8688-43a2-f930-d937c43a91ff"
   },
   "outputs": [
    {
     "name": "stdout",
     "output_type": "stream",
     "text": [
      "data_store:\n",
      "  index     int64\n",
      "Store     int64\n",
      "Type     object\n",
      "Size      int64\n",
      "dtype: object\n",
      "data_feautres:\n",
      "  Store                    int64\n",
      "Date            datetime64[ns]\n",
      "Temperature            float64\n",
      "Fuel_Price             float64\n",
      "CPI                    float64\n",
      "Unemployment           float64\n",
      "IsHoliday                int64\n",
      "dtype: object\n",
      "data_training:\n",
      "  index                  float64\n",
      "Store                    int64\n",
      "Dept                     int64\n",
      "Date            datetime64[ns]\n",
      "Weekly_Sales           float64\n",
      "IsHoliday                int64\n",
      "dtype: object\n"
     ]
    }
   ],
   "source": [
    "print(\"data_store:\\n \", data_stores.dtypes)\n",
    "print(\"data_feautres:\\n \", data_features.dtypes)\n",
    "print(\"data_training:\\n \", data_training.dtypes)"
   ]
  },
  {
   "cell_type": "code",
   "execution_count": 0,
   "metadata": {
    "colab": {},
    "colab_type": "code",
    "id": "YYSP0SqU8yP0"
   },
   "outputs": [],
   "source": [
    "train_bt = pd.merge(data_training, data_stores, on= ['Store'], how='left')\n",
    "\n",
    "train = pd.merge(train_bt,data_features, on=['Store', 'Date', 'IsHoliday'], how = 'left')"
   ]
  },
  {
   "cell_type": "code",
   "execution_count": 488,
   "metadata": {
    "colab": {
     "base_uri": "https://localhost:8080/",
     "height": 300
    },
    "colab_type": "code",
    "id": "EpBhAz_P8-ir",
    "outputId": "0b3f94d5-f12d-4106-db0f-ea1915b609c0"
   },
   "outputs": [
    {
     "data": {
      "text/html": [
       "<div>\n",
       "<style scoped>\n",
       "    .dataframe tbody tr th:only-of-type {\n",
       "        vertical-align: middle;\n",
       "    }\n",
       "\n",
       "    .dataframe tbody tr th {\n",
       "        vertical-align: top;\n",
       "    }\n",
       "\n",
       "    .dataframe thead th {\n",
       "        text-align: right;\n",
       "    }\n",
       "</style>\n",
       "<table border=\"1\" class=\"dataframe\">\n",
       "  <thead>\n",
       "    <tr style=\"text-align: right;\">\n",
       "      <th></th>\n",
       "      <th>index_x</th>\n",
       "      <th>Store</th>\n",
       "      <th>Dept</th>\n",
       "      <th>Date</th>\n",
       "      <th>Weekly_Sales</th>\n",
       "      <th>IsHoliday</th>\n",
       "      <th>index_y</th>\n",
       "      <th>Type</th>\n",
       "      <th>Size</th>\n",
       "      <th>Temperature</th>\n",
       "      <th>Fuel_Price</th>\n",
       "      <th>CPI</th>\n",
       "      <th>Unemployment</th>\n",
       "    </tr>\n",
       "  </thead>\n",
       "  <tbody>\n",
       "    <tr>\n",
       "      <th>0</th>\n",
       "      <td>0.0</td>\n",
       "      <td>1</td>\n",
       "      <td>1</td>\n",
       "      <td>2010-02-05</td>\n",
       "      <td>24924.50</td>\n",
       "      <td>0</td>\n",
       "      <td>0</td>\n",
       "      <td>A</td>\n",
       "      <td>151315</td>\n",
       "      <td>42.31</td>\n",
       "      <td>2.572</td>\n",
       "      <td>211.096358</td>\n",
       "      <td>8.106</td>\n",
       "    </tr>\n",
       "    <tr>\n",
       "      <th>1</th>\n",
       "      <td>1.0</td>\n",
       "      <td>1</td>\n",
       "      <td>1</td>\n",
       "      <td>2010-02-12</td>\n",
       "      <td>46039.49</td>\n",
       "      <td>1</td>\n",
       "      <td>0</td>\n",
       "      <td>A</td>\n",
       "      <td>151315</td>\n",
       "      <td>38.51</td>\n",
       "      <td>2.548</td>\n",
       "      <td>211.242170</td>\n",
       "      <td>8.106</td>\n",
       "    </tr>\n",
       "    <tr>\n",
       "      <th>2</th>\n",
       "      <td>2.0</td>\n",
       "      <td>1</td>\n",
       "      <td>1</td>\n",
       "      <td>2010-02-19</td>\n",
       "      <td>41595.55</td>\n",
       "      <td>0</td>\n",
       "      <td>0</td>\n",
       "      <td>A</td>\n",
       "      <td>151315</td>\n",
       "      <td>39.93</td>\n",
       "      <td>2.514</td>\n",
       "      <td>211.289143</td>\n",
       "      <td>8.106</td>\n",
       "    </tr>\n",
       "    <tr>\n",
       "      <th>3</th>\n",
       "      <td>3.0</td>\n",
       "      <td>1</td>\n",
       "      <td>1</td>\n",
       "      <td>2010-02-26</td>\n",
       "      <td>19403.54</td>\n",
       "      <td>0</td>\n",
       "      <td>0</td>\n",
       "      <td>A</td>\n",
       "      <td>151315</td>\n",
       "      <td>46.63</td>\n",
       "      <td>2.561</td>\n",
       "      <td>211.319643</td>\n",
       "      <td>8.106</td>\n",
       "    </tr>\n",
       "    <tr>\n",
       "      <th>4</th>\n",
       "      <td>4.0</td>\n",
       "      <td>1</td>\n",
       "      <td>1</td>\n",
       "      <td>2010-03-05</td>\n",
       "      <td>21827.90</td>\n",
       "      <td>0</td>\n",
       "      <td>0</td>\n",
       "      <td>A</td>\n",
       "      <td>151315</td>\n",
       "      <td>46.50</td>\n",
       "      <td>2.625</td>\n",
       "      <td>211.350143</td>\n",
       "      <td>8.106</td>\n",
       "    </tr>\n",
       "  </tbody>\n",
       "</table>\n",
       "</div>"
      ],
      "text/plain": [
       "   index_x  Store  Dept       Date  Weekly_Sales  IsHoliday  index_y Type  \\\n",
       "0      0.0      1     1 2010-02-05      24924.50          0        0    A   \n",
       "1      1.0      1     1 2010-02-12      46039.49          1        0    A   \n",
       "2      2.0      1     1 2010-02-19      41595.55          0        0    A   \n",
       "3      3.0      1     1 2010-02-26      19403.54          0        0    A   \n",
       "4      4.0      1     1 2010-03-05      21827.90          0        0    A   \n",
       "\n",
       "     Size  Temperature  Fuel_Price         CPI  Unemployment  \n",
       "0  151315        42.31       2.572  211.096358         8.106  \n",
       "1  151315        38.51       2.548  211.242170         8.106  \n",
       "2  151315        39.93       2.514  211.289143         8.106  \n",
       "3  151315        46.63       2.561  211.319643         8.106  \n",
       "4  151315        46.50       2.625  211.350143         8.106  "
      ]
     },
     "execution_count": 488,
     "metadata": {
      "tags": []
     },
     "output_type": "execute_result"
    }
   ],
   "source": [
    "train.head()"
   ]
  },
  {
   "cell_type": "code",
   "execution_count": 0,
   "metadata": {
    "colab": {},
    "colab_type": "code",
    "id": "8l4kj6pa-Td7"
   },
   "outputs": [],
   "source": [
    "train.drop(columns=[\"index_y\"],axis =1, inplace = True )\n"
   ]
  },
  {
   "cell_type": "code",
   "execution_count": 490,
   "metadata": {
    "colab": {
     "base_uri": "https://localhost:8080/",
     "height": 217
    },
    "colab_type": "code",
    "id": "bLBSIPS63nld",
    "outputId": "c219e1a1-cbe6-4457-e69c-c7ac65a4bfac"
   },
   "outputs": [
    {
     "data": {
      "text/plain": [
       "0              0\n",
       "1              1\n",
       "2              2\n",
       "3              3\n",
       "4              4\n",
       "           ...  \n",
       "421565    421565\n",
       "421566    421566\n",
       "421567    421567\n",
       "421568    421568\n",
       "421569    421569\n",
       "Name: index_x, Length: 421570, dtype: int64"
      ]
     },
     "execution_count": 490,
     "metadata": {
      "tags": []
     },
     "output_type": "execute_result"
    }
   ],
   "source": [
    "train.index_x.astype(int)"
   ]
  },
  {
   "cell_type": "code",
   "execution_count": 0,
   "metadata": {
    "colab": {},
    "colab_type": "code",
    "id": "vgYDwZXS0_zX"
   },
   "outputs": [],
   "source": [
    "train['Weekly_Sales'] = np.where(train['Weekly_Sales'] < 0, 0, train['Weekly_Sales'])"
   ]
  },
  {
   "cell_type": "code",
   "execution_count": 492,
   "metadata": {
    "colab": {
     "base_uri": "https://localhost:8080/",
     "height": 196
    },
    "colab_type": "code",
    "id": "_9er4kXKEUSV",
    "outputId": "903bac6d-f06d-4917-92d2-76b657cd3db9"
   },
   "outputs": [
    {
     "data": {
      "text/html": [
       "<div>\n",
       "<style scoped>\n",
       "    .dataframe tbody tr th:only-of-type {\n",
       "        vertical-align: middle;\n",
       "    }\n",
       "\n",
       "    .dataframe tbody tr th {\n",
       "        vertical-align: top;\n",
       "    }\n",
       "\n",
       "    .dataframe thead th {\n",
       "        text-align: right;\n",
       "    }\n",
       "</style>\n",
       "<table border=\"1\" class=\"dataframe\">\n",
       "  <thead>\n",
       "    <tr style=\"text-align: right;\">\n",
       "      <th></th>\n",
       "      <th>index_x</th>\n",
       "      <th>Store</th>\n",
       "      <th>Dept</th>\n",
       "      <th>Date</th>\n",
       "      <th>Weekly_Sales</th>\n",
       "      <th>IsHoliday</th>\n",
       "      <th>Type</th>\n",
       "      <th>Size</th>\n",
       "      <th>Temperature</th>\n",
       "      <th>Fuel_Price</th>\n",
       "      <th>CPI</th>\n",
       "      <th>Unemployment</th>\n",
       "    </tr>\n",
       "  </thead>\n",
       "  <tbody>\n",
       "    <tr>\n",
       "      <th>0</th>\n",
       "      <td>0.0</td>\n",
       "      <td>1</td>\n",
       "      <td>1</td>\n",
       "      <td>2010-02-05</td>\n",
       "      <td>24924.50</td>\n",
       "      <td>0</td>\n",
       "      <td>A</td>\n",
       "      <td>151315</td>\n",
       "      <td>42.31</td>\n",
       "      <td>2.572</td>\n",
       "      <td>211.096358</td>\n",
       "      <td>8.106</td>\n",
       "    </tr>\n",
       "    <tr>\n",
       "      <th>1</th>\n",
       "      <td>1.0</td>\n",
       "      <td>1</td>\n",
       "      <td>1</td>\n",
       "      <td>2010-02-12</td>\n",
       "      <td>46039.49</td>\n",
       "      <td>1</td>\n",
       "      <td>A</td>\n",
       "      <td>151315</td>\n",
       "      <td>38.51</td>\n",
       "      <td>2.548</td>\n",
       "      <td>211.242170</td>\n",
       "      <td>8.106</td>\n",
       "    </tr>\n",
       "    <tr>\n",
       "      <th>2</th>\n",
       "      <td>2.0</td>\n",
       "      <td>1</td>\n",
       "      <td>1</td>\n",
       "      <td>2010-02-19</td>\n",
       "      <td>41595.55</td>\n",
       "      <td>0</td>\n",
       "      <td>A</td>\n",
       "      <td>151315</td>\n",
       "      <td>39.93</td>\n",
       "      <td>2.514</td>\n",
       "      <td>211.289143</td>\n",
       "      <td>8.106</td>\n",
       "    </tr>\n",
       "    <tr>\n",
       "      <th>3</th>\n",
       "      <td>3.0</td>\n",
       "      <td>1</td>\n",
       "      <td>1</td>\n",
       "      <td>2010-02-26</td>\n",
       "      <td>19403.54</td>\n",
       "      <td>0</td>\n",
       "      <td>A</td>\n",
       "      <td>151315</td>\n",
       "      <td>46.63</td>\n",
       "      <td>2.561</td>\n",
       "      <td>211.319643</td>\n",
       "      <td>8.106</td>\n",
       "    </tr>\n",
       "    <tr>\n",
       "      <th>4</th>\n",
       "      <td>4.0</td>\n",
       "      <td>1</td>\n",
       "      <td>1</td>\n",
       "      <td>2010-03-05</td>\n",
       "      <td>21827.90</td>\n",
       "      <td>0</td>\n",
       "      <td>A</td>\n",
       "      <td>151315</td>\n",
       "      <td>46.50</td>\n",
       "      <td>2.625</td>\n",
       "      <td>211.350143</td>\n",
       "      <td>8.106</td>\n",
       "    </tr>\n",
       "  </tbody>\n",
       "</table>\n",
       "</div>"
      ],
      "text/plain": [
       "   index_x  Store  Dept       Date  Weekly_Sales  IsHoliday Type    Size  \\\n",
       "0      0.0      1     1 2010-02-05      24924.50          0    A  151315   \n",
       "1      1.0      1     1 2010-02-12      46039.49          1    A  151315   \n",
       "2      2.0      1     1 2010-02-19      41595.55          0    A  151315   \n",
       "3      3.0      1     1 2010-02-26      19403.54          0    A  151315   \n",
       "4      4.0      1     1 2010-03-05      21827.90          0    A  151315   \n",
       "\n",
       "   Temperature  Fuel_Price         CPI  Unemployment  \n",
       "0        42.31       2.572  211.096358         8.106  \n",
       "1        38.51       2.548  211.242170         8.106  \n",
       "2        39.93       2.514  211.289143         8.106  \n",
       "3        46.63       2.561  211.319643         8.106  \n",
       "4        46.50       2.625  211.350143         8.106  "
      ]
     },
     "execution_count": 492,
     "metadata": {
      "tags": []
     },
     "output_type": "execute_result"
    }
   ],
   "source": [
    "train[\"index_x\"].astype(int)\n",
    "train.head()"
   ]
  },
  {
   "cell_type": "code",
   "execution_count": 0,
   "metadata": {
    "colab": {},
    "colab_type": "code",
    "id": "YoZWsGsZ5nX3"
   },
   "outputs": [],
   "source": [
    "store_dept_summary = data_training.groupby(by=['Store','Dept']).agg(\n",
    "    {\n",
    "        'Date': [min,max],\n",
    "        'Weekly_Sales': \"count\" \n",
    "\n",
    "    }\n",
    "\n",
    "\n",
    ")\n",
    "\n"
   ]
  },
  {
   "cell_type": "code",
   "execution_count": 494,
   "metadata": {
    "colab": {
     "base_uri": "https://localhost:8080/",
     "height": 256
    },
    "colab_type": "code",
    "id": "30_L-V0XCpNa",
    "outputId": "55046ba1-ad45-4340-b99b-b6b0da3b206c"
   },
   "outputs": [
    {
     "data": {
      "text/html": [
       "<div>\n",
       "<style scoped>\n",
       "    .dataframe tbody tr th:only-of-type {\n",
       "        vertical-align: middle;\n",
       "    }\n",
       "\n",
       "    .dataframe tbody tr th {\n",
       "        vertical-align: top;\n",
       "    }\n",
       "\n",
       "    .dataframe thead tr th {\n",
       "        text-align: left;\n",
       "    }\n",
       "\n",
       "    .dataframe thead tr:last-of-type th {\n",
       "        text-align: right;\n",
       "    }\n",
       "</style>\n",
       "<table border=\"1\" class=\"dataframe\">\n",
       "  <thead>\n",
       "    <tr>\n",
       "      <th></th>\n",
       "      <th></th>\n",
       "      <th colspan=\"2\" halign=\"left\">Date</th>\n",
       "      <th>Weekly_Sales</th>\n",
       "    </tr>\n",
       "    <tr>\n",
       "      <th></th>\n",
       "      <th></th>\n",
       "      <th>min</th>\n",
       "      <th>max</th>\n",
       "      <th>count</th>\n",
       "    </tr>\n",
       "    <tr>\n",
       "      <th>Store</th>\n",
       "      <th>Dept</th>\n",
       "      <th></th>\n",
       "      <th></th>\n",
       "      <th></th>\n",
       "    </tr>\n",
       "  </thead>\n",
       "  <tbody>\n",
       "    <tr>\n",
       "      <th rowspan=\"5\" valign=\"top\">1</th>\n",
       "      <th>1</th>\n",
       "      <td>2010-02-05</td>\n",
       "      <td>2012-10-26</td>\n",
       "      <td>143</td>\n",
       "    </tr>\n",
       "    <tr>\n",
       "      <th>2</th>\n",
       "      <td>2010-02-05</td>\n",
       "      <td>2012-10-26</td>\n",
       "      <td>143</td>\n",
       "    </tr>\n",
       "    <tr>\n",
       "      <th>3</th>\n",
       "      <td>2010-02-05</td>\n",
       "      <td>2012-10-26</td>\n",
       "      <td>143</td>\n",
       "    </tr>\n",
       "    <tr>\n",
       "      <th>4</th>\n",
       "      <td>2010-02-05</td>\n",
       "      <td>2012-10-26</td>\n",
       "      <td>143</td>\n",
       "    </tr>\n",
       "    <tr>\n",
       "      <th>5</th>\n",
       "      <td>2010-02-05</td>\n",
       "      <td>2012-10-26</td>\n",
       "      <td>143</td>\n",
       "    </tr>\n",
       "  </tbody>\n",
       "</table>\n",
       "</div>"
      ],
      "text/plain": [
       "                 Date            Weekly_Sales\n",
       "                  min        max        count\n",
       "Store Dept                                   \n",
       "1     1    2010-02-05 2012-10-26          143\n",
       "      2    2010-02-05 2012-10-26          143\n",
       "      3    2010-02-05 2012-10-26          143\n",
       "      4    2010-02-05 2012-10-26          143\n",
       "      5    2010-02-05 2012-10-26          143"
      ]
     },
     "execution_count": 494,
     "metadata": {
      "tags": []
     },
     "output_type": "execute_result"
    }
   ],
   "source": [
    "store_dept_summary.head()"
   ]
  },
  {
   "cell_type": "code",
   "execution_count": 495,
   "metadata": {
    "colab": {
     "base_uri": "https://localhost:8080/",
     "height": 84
    },
    "colab_type": "code",
    "id": "GpcYnMwB54AW",
    "outputId": "1b34349a-adbc-46f0-d8a8-5865a96a22df"
   },
   "outputs": [
    {
     "data": {
      "text/plain": [
       "MultiIndex([(        'Date',   'min'),\n",
       "            (        'Date',   'max'),\n",
       "            ('Weekly_Sales', 'count')],\n",
       "           )"
      ]
     },
     "execution_count": 495,
     "metadata": {
      "tags": []
     },
     "output_type": "execute_result"
    }
   ],
   "source": [
    "store_dept_summary.columns"
   ]
  },
  {
   "cell_type": "code",
   "execution_count": 0,
   "metadata": {
    "colab": {},
    "colab_type": "code",
    "id": "oY1sUAxG7wuJ"
   },
   "outputs": [],
   "source": [
    "train['Weeks_since_start'] = round(pd.to_numeric((train['Date'] - pd.to_datetime('2010-02-05')) / np.timedelta64(1, 'W')))\n",
    "train['week_number_of_year'] = train['Date'].dt.week\n",
    "#train['PreWeekDate'] = pd.to_datetime(data_features['Date']) - datetime.timedelta(days = 7)\n",
    "\n"
   ]
  },
  {
   "cell_type": "code",
   "execution_count": 497,
   "metadata": {
    "colab": {
     "base_uri": "https://localhost:8080/",
     "height": 120
    },
    "colab_type": "code",
    "id": "X66aWbl98Rgo",
    "outputId": "35c0d189-7422-46ce-dcfe-c23a768bfd9d"
   },
   "outputs": [
    {
     "name": "stderr",
     "output_type": "stream",
     "text": [
      "/usr/local/lib/python3.6/dist-packages/ipykernel_launcher.py:1: SettingWithCopyWarning: \n",
      "A value is trying to be set on a copy of a slice from a DataFrame\n",
      "\n",
      "See the caveats in the documentation: https://pandas.pydata.org/pandas-docs/stable/user_guide/indexing.html#returning-a-view-versus-a-copy\n",
      "  \"\"\"Entry point for launching an IPython kernel.\n"
     ]
    }
   ],
   "source": [
    "#train['NewHoliday_Ind'] = np.where((train['IsHoliday'] == 0), 0, 1)\n",
    "train['IsHoliday'][train['Date'].isin(['2010-11-26', '2011-12-25', '2010-12-24', '2011-12-23'])] = 2"
   ]
  },
  {
   "cell_type": "code",
   "execution_count": 498,
   "metadata": {
    "colab": {
     "base_uri": "https://localhost:8080/",
     "height": 300
    },
    "colab_type": "code",
    "id": "UoYL3BdrGkQD",
    "outputId": "661bff87-a3bb-4835-cd55-f81618e01972"
   },
   "outputs": [
    {
     "data": {
      "text/html": [
       "<div>\n",
       "<style scoped>\n",
       "    .dataframe tbody tr th:only-of-type {\n",
       "        vertical-align: middle;\n",
       "    }\n",
       "\n",
       "    .dataframe tbody tr th {\n",
       "        vertical-align: top;\n",
       "    }\n",
       "\n",
       "    .dataframe thead th {\n",
       "        text-align: right;\n",
       "    }\n",
       "</style>\n",
       "<table border=\"1\" class=\"dataframe\">\n",
       "  <thead>\n",
       "    <tr style=\"text-align: right;\">\n",
       "      <th></th>\n",
       "      <th>index_x</th>\n",
       "      <th>Store</th>\n",
       "      <th>Dept</th>\n",
       "      <th>Date</th>\n",
       "      <th>Weekly_Sales</th>\n",
       "      <th>IsHoliday</th>\n",
       "      <th>Type</th>\n",
       "      <th>Size</th>\n",
       "      <th>Temperature</th>\n",
       "      <th>Fuel_Price</th>\n",
       "      <th>CPI</th>\n",
       "      <th>Unemployment</th>\n",
       "      <th>Weeks_since_start</th>\n",
       "      <th>week_number_of_year</th>\n",
       "    </tr>\n",
       "  </thead>\n",
       "  <tbody>\n",
       "    <tr>\n",
       "      <th>0</th>\n",
       "      <td>0.0</td>\n",
       "      <td>1</td>\n",
       "      <td>1</td>\n",
       "      <td>2010-02-05</td>\n",
       "      <td>24924.50</td>\n",
       "      <td>0</td>\n",
       "      <td>A</td>\n",
       "      <td>151315</td>\n",
       "      <td>42.31</td>\n",
       "      <td>2.572</td>\n",
       "      <td>211.096358</td>\n",
       "      <td>8.106</td>\n",
       "      <td>0.0</td>\n",
       "      <td>5</td>\n",
       "    </tr>\n",
       "    <tr>\n",
       "      <th>1</th>\n",
       "      <td>1.0</td>\n",
       "      <td>1</td>\n",
       "      <td>1</td>\n",
       "      <td>2010-02-12</td>\n",
       "      <td>46039.49</td>\n",
       "      <td>1</td>\n",
       "      <td>A</td>\n",
       "      <td>151315</td>\n",
       "      <td>38.51</td>\n",
       "      <td>2.548</td>\n",
       "      <td>211.242170</td>\n",
       "      <td>8.106</td>\n",
       "      <td>1.0</td>\n",
       "      <td>6</td>\n",
       "    </tr>\n",
       "    <tr>\n",
       "      <th>2</th>\n",
       "      <td>2.0</td>\n",
       "      <td>1</td>\n",
       "      <td>1</td>\n",
       "      <td>2010-02-19</td>\n",
       "      <td>41595.55</td>\n",
       "      <td>0</td>\n",
       "      <td>A</td>\n",
       "      <td>151315</td>\n",
       "      <td>39.93</td>\n",
       "      <td>2.514</td>\n",
       "      <td>211.289143</td>\n",
       "      <td>8.106</td>\n",
       "      <td>2.0</td>\n",
       "      <td>7</td>\n",
       "    </tr>\n",
       "    <tr>\n",
       "      <th>3</th>\n",
       "      <td>3.0</td>\n",
       "      <td>1</td>\n",
       "      <td>1</td>\n",
       "      <td>2010-02-26</td>\n",
       "      <td>19403.54</td>\n",
       "      <td>0</td>\n",
       "      <td>A</td>\n",
       "      <td>151315</td>\n",
       "      <td>46.63</td>\n",
       "      <td>2.561</td>\n",
       "      <td>211.319643</td>\n",
       "      <td>8.106</td>\n",
       "      <td>3.0</td>\n",
       "      <td>8</td>\n",
       "    </tr>\n",
       "    <tr>\n",
       "      <th>4</th>\n",
       "      <td>4.0</td>\n",
       "      <td>1</td>\n",
       "      <td>1</td>\n",
       "      <td>2010-03-05</td>\n",
       "      <td>21827.90</td>\n",
       "      <td>0</td>\n",
       "      <td>A</td>\n",
       "      <td>151315</td>\n",
       "      <td>46.50</td>\n",
       "      <td>2.625</td>\n",
       "      <td>211.350143</td>\n",
       "      <td>8.106</td>\n",
       "      <td>4.0</td>\n",
       "      <td>9</td>\n",
       "    </tr>\n",
       "  </tbody>\n",
       "</table>\n",
       "</div>"
      ],
      "text/plain": [
       "   index_x  Store  Dept       Date  Weekly_Sales  IsHoliday Type    Size  \\\n",
       "0      0.0      1     1 2010-02-05      24924.50          0    A  151315   \n",
       "1      1.0      1     1 2010-02-12      46039.49          1    A  151315   \n",
       "2      2.0      1     1 2010-02-19      41595.55          0    A  151315   \n",
       "3      3.0      1     1 2010-02-26      19403.54          0    A  151315   \n",
       "4      4.0      1     1 2010-03-05      21827.90          0    A  151315   \n",
       "\n",
       "   Temperature  Fuel_Price         CPI  Unemployment  Weeks_since_start  \\\n",
       "0        42.31       2.572  211.096358         8.106                0.0   \n",
       "1        38.51       2.548  211.242170         8.106                1.0   \n",
       "2        39.93       2.514  211.289143         8.106                2.0   \n",
       "3        46.63       2.561  211.319643         8.106                3.0   \n",
       "4        46.50       2.625  211.350143         8.106                4.0   \n",
       "\n",
       "   week_number_of_year  \n",
       "0                    5  \n",
       "1                    6  \n",
       "2                    7  \n",
       "3                    8  \n",
       "4                    9  "
      ]
     },
     "execution_count": 498,
     "metadata": {
      "tags": []
     },
     "output_type": "execute_result"
    }
   ],
   "source": [
    "train.head()"
   ]
  },
  {
   "cell_type": "code",
   "execution_count": 499,
   "metadata": {
    "colab": {
     "base_uri": "https://localhost:8080/",
     "height": 592
    },
    "colab_type": "code",
    "id": "tYql1y-59Pxt",
    "outputId": "b1405b52-5fa6-4a9b-90d9-3b83a6728978"
   },
   "outputs": [
    {
     "data": {
      "text/html": [
       "<div>\n",
       "<style scoped>\n",
       "    .dataframe tbody tr th:only-of-type {\n",
       "        vertical-align: middle;\n",
       "    }\n",
       "\n",
       "    .dataframe tbody tr th {\n",
       "        vertical-align: top;\n",
       "    }\n",
       "\n",
       "    .dataframe thead th {\n",
       "        text-align: right;\n",
       "    }\n",
       "</style>\n",
       "<table border=\"1\" class=\"dataframe\">\n",
       "  <thead>\n",
       "    <tr style=\"text-align: right;\">\n",
       "      <th></th>\n",
       "      <th>index_x</th>\n",
       "      <th>Store</th>\n",
       "      <th>Dept</th>\n",
       "      <th>Date</th>\n",
       "      <th>Weekly_Sales</th>\n",
       "      <th>IsHoliday</th>\n",
       "      <th>Type</th>\n",
       "      <th>Size</th>\n",
       "      <th>Temperature</th>\n",
       "      <th>Fuel_Price</th>\n",
       "      <th>CPI</th>\n",
       "      <th>Unemployment</th>\n",
       "      <th>Weeks_since_start</th>\n",
       "      <th>week_number_of_year</th>\n",
       "    </tr>\n",
       "  </thead>\n",
       "  <tbody>\n",
       "    <tr>\n",
       "      <th>42</th>\n",
       "      <td>42.0</td>\n",
       "      <td>1</td>\n",
       "      <td>1</td>\n",
       "      <td>2010-11-26</td>\n",
       "      <td>18820.29</td>\n",
       "      <td>2</td>\n",
       "      <td>A</td>\n",
       "      <td>151315</td>\n",
       "      <td>64.52</td>\n",
       "      <td>2.735</td>\n",
       "      <td>211.748433</td>\n",
       "      <td>7.838</td>\n",
       "      <td>42.0</td>\n",
       "      <td>47</td>\n",
       "    </tr>\n",
       "    <tr>\n",
       "      <th>46</th>\n",
       "      <td>46.0</td>\n",
       "      <td>1</td>\n",
       "      <td>1</td>\n",
       "      <td>2010-12-24</td>\n",
       "      <td>55931.23</td>\n",
       "      <td>2</td>\n",
       "      <td>A</td>\n",
       "      <td>151315</td>\n",
       "      <td>52.33</td>\n",
       "      <td>2.886</td>\n",
       "      <td>211.405122</td>\n",
       "      <td>7.838</td>\n",
       "      <td>46.0</td>\n",
       "      <td>51</td>\n",
       "    </tr>\n",
       "    <tr>\n",
       "      <th>98</th>\n",
       "      <td>98.0</td>\n",
       "      <td>1</td>\n",
       "      <td>1</td>\n",
       "      <td>2011-12-23</td>\n",
       "      <td>46788.75</td>\n",
       "      <td>2</td>\n",
       "      <td>A</td>\n",
       "      <td>151315</td>\n",
       "      <td>47.96</td>\n",
       "      <td>3.112</td>\n",
       "      <td>219.357722</td>\n",
       "      <td>7.866</td>\n",
       "      <td>98.0</td>\n",
       "      <td>51</td>\n",
       "    </tr>\n",
       "    <tr>\n",
       "      <th>185</th>\n",
       "      <td>185.0</td>\n",
       "      <td>1</td>\n",
       "      <td>2</td>\n",
       "      <td>2010-11-26</td>\n",
       "      <td>45681.98</td>\n",
       "      <td>2</td>\n",
       "      <td>A</td>\n",
       "      <td>151315</td>\n",
       "      <td>64.52</td>\n",
       "      <td>2.735</td>\n",
       "      <td>211.748433</td>\n",
       "      <td>7.838</td>\n",
       "      <td>42.0</td>\n",
       "      <td>47</td>\n",
       "    </tr>\n",
       "    <tr>\n",
       "      <th>189</th>\n",
       "      <td>189.0</td>\n",
       "      <td>1</td>\n",
       "      <td>2</td>\n",
       "      <td>2010-12-24</td>\n",
       "      <td>59889.32</td>\n",
       "      <td>2</td>\n",
       "      <td>A</td>\n",
       "      <td>151315</td>\n",
       "      <td>52.33</td>\n",
       "      <td>2.886</td>\n",
       "      <td>211.405122</td>\n",
       "      <td>7.838</td>\n",
       "      <td>46.0</td>\n",
       "      <td>51</td>\n",
       "    </tr>\n",
       "    <tr>\n",
       "      <th>...</th>\n",
       "      <td>...</td>\n",
       "      <td>...</td>\n",
       "      <td>...</td>\n",
       "      <td>...</td>\n",
       "      <td>...</td>\n",
       "      <td>...</td>\n",
       "      <td>...</td>\n",
       "      <td>...</td>\n",
       "      <td>...</td>\n",
       "      <td>...</td>\n",
       "      <td>...</td>\n",
       "      <td>...</td>\n",
       "      <td>...</td>\n",
       "      <td>...</td>\n",
       "    </tr>\n",
       "    <tr>\n",
       "      <th>421338</th>\n",
       "      <td>421338.0</td>\n",
       "      <td>45</td>\n",
       "      <td>97</td>\n",
       "      <td>2010-12-24</td>\n",
       "      <td>6767.35</td>\n",
       "      <td>2</td>\n",
       "      <td>B</td>\n",
       "      <td>118221</td>\n",
       "      <td>30.59</td>\n",
       "      <td>3.141</td>\n",
       "      <td>182.544590</td>\n",
       "      <td>8.724</td>\n",
       "      <td>46.0</td>\n",
       "      <td>51</td>\n",
       "    </tr>\n",
       "    <tr>\n",
       "      <th>421390</th>\n",
       "      <td>421390.0</td>\n",
       "      <td>45</td>\n",
       "      <td>97</td>\n",
       "      <td>2011-12-23</td>\n",
       "      <td>6840.54</td>\n",
       "      <td>2</td>\n",
       "      <td>B</td>\n",
       "      <td>118221</td>\n",
       "      <td>42.27</td>\n",
       "      <td>3.389</td>\n",
       "      <td>188.929975</td>\n",
       "      <td>8.523</td>\n",
       "      <td>98.0</td>\n",
       "      <td>51</td>\n",
       "    </tr>\n",
       "    <tr>\n",
       "      <th>421469</th>\n",
       "      <td>421469.0</td>\n",
       "      <td>45</td>\n",
       "      <td>98</td>\n",
       "      <td>2010-11-26</td>\n",
       "      <td>335.33</td>\n",
       "      <td>2</td>\n",
       "      <td>B</td>\n",
       "      <td>118221</td>\n",
       "      <td>46.15</td>\n",
       "      <td>3.039</td>\n",
       "      <td>182.783277</td>\n",
       "      <td>8.724</td>\n",
       "      <td>42.0</td>\n",
       "      <td>47</td>\n",
       "    </tr>\n",
       "    <tr>\n",
       "      <th>421473</th>\n",
       "      <td>421473.0</td>\n",
       "      <td>45</td>\n",
       "      <td>98</td>\n",
       "      <td>2010-12-24</td>\n",
       "      <td>222.48</td>\n",
       "      <td>2</td>\n",
       "      <td>B</td>\n",
       "      <td>118221</td>\n",
       "      <td>30.59</td>\n",
       "      <td>3.141</td>\n",
       "      <td>182.544590</td>\n",
       "      <td>8.724</td>\n",
       "      <td>46.0</td>\n",
       "      <td>51</td>\n",
       "    </tr>\n",
       "    <tr>\n",
       "      <th>421525</th>\n",
       "      <td>421525.0</td>\n",
       "      <td>45</td>\n",
       "      <td>98</td>\n",
       "      <td>2011-12-23</td>\n",
       "      <td>1084.78</td>\n",
       "      <td>2</td>\n",
       "      <td>B</td>\n",
       "      <td>118221</td>\n",
       "      <td>42.27</td>\n",
       "      <td>3.389</td>\n",
       "      <td>188.929975</td>\n",
       "      <td>8.523</td>\n",
       "      <td>98.0</td>\n",
       "      <td>51</td>\n",
       "    </tr>\n",
       "  </tbody>\n",
       "</table>\n",
       "<p>8921 rows × 14 columns</p>\n",
       "</div>"
      ],
      "text/plain": [
       "         index_x  Store  Dept       Date  Weekly_Sales  IsHoliday Type  \\\n",
       "42          42.0      1     1 2010-11-26      18820.29          2    A   \n",
       "46          46.0      1     1 2010-12-24      55931.23          2    A   \n",
       "98          98.0      1     1 2011-12-23      46788.75          2    A   \n",
       "185        185.0      1     2 2010-11-26      45681.98          2    A   \n",
       "189        189.0      1     2 2010-12-24      59889.32          2    A   \n",
       "...          ...    ...   ...        ...           ...        ...  ...   \n",
       "421338  421338.0     45    97 2010-12-24       6767.35          2    B   \n",
       "421390  421390.0     45    97 2011-12-23       6840.54          2    B   \n",
       "421469  421469.0     45    98 2010-11-26        335.33          2    B   \n",
       "421473  421473.0     45    98 2010-12-24        222.48          2    B   \n",
       "421525  421525.0     45    98 2011-12-23       1084.78          2    B   \n",
       "\n",
       "          Size  Temperature  Fuel_Price         CPI  Unemployment  \\\n",
       "42      151315        64.52       2.735  211.748433         7.838   \n",
       "46      151315        52.33       2.886  211.405122         7.838   \n",
       "98      151315        47.96       3.112  219.357722         7.866   \n",
       "185     151315        64.52       2.735  211.748433         7.838   \n",
       "189     151315        52.33       2.886  211.405122         7.838   \n",
       "...        ...          ...         ...         ...           ...   \n",
       "421338  118221        30.59       3.141  182.544590         8.724   \n",
       "421390  118221        42.27       3.389  188.929975         8.523   \n",
       "421469  118221        46.15       3.039  182.783277         8.724   \n",
       "421473  118221        30.59       3.141  182.544590         8.724   \n",
       "421525  118221        42.27       3.389  188.929975         8.523   \n",
       "\n",
       "        Weeks_since_start  week_number_of_year  \n",
       "42                   42.0                   47  \n",
       "46                   46.0                   51  \n",
       "98                   98.0                   51  \n",
       "185                  42.0                   47  \n",
       "189                  46.0                   51  \n",
       "...                   ...                  ...  \n",
       "421338               46.0                   51  \n",
       "421390               98.0                   51  \n",
       "421469               42.0                   47  \n",
       "421473               46.0                   51  \n",
       "421525               98.0                   51  \n",
       "\n",
       "[8921 rows x 14 columns]"
      ]
     },
     "execution_count": 499,
     "metadata": {
      "tags": []
     },
     "output_type": "execute_result"
    }
   ],
   "source": [
    "train[train['IsHoliday'] ==2]"
   ]
  },
  {
   "cell_type": "code",
   "execution_count": 0,
   "metadata": {
    "colab": {},
    "colab_type": "code",
    "id": "rzVqYE5nZy_V"
   },
   "outputs": [],
   "source": [
    "train = train.iloc[:,1:]\n"
   ]
  },
  {
   "cell_type": "code",
   "execution_count": 0,
   "metadata": {
    "colab": {},
    "colab_type": "code",
    "id": "a4fcFCIVscuB"
   },
   "outputs": [],
   "source": [
    "train_backup = train"
   ]
  },
  {
   "cell_type": "code",
   "execution_count": 0,
   "metadata": {
    "colab": {},
    "colab_type": "code",
    "id": "ZaFlWzFXsgaY"
   },
   "outputs": [],
   "source": [
    "train = train[train['Store'] == 1]"
   ]
  },
  {
   "cell_type": "code",
   "execution_count": 0,
   "metadata": {
    "colab": {},
    "colab_type": "code",
    "id": "iGGKZdOKTc3A"
   },
   "outputs": [],
   "source": [
    "#train['NewHoliday_Ind'] = np.where((train['IsHoliday'] == 0), 0, 1)\n",
    "#train['NewHoliday_Ind'][ train['Date'].isin(['2010-11-26', '2011-12-25', '2010-12-24', '2011-12-23'])] = 2\n"
   ]
  },
  {
   "cell_type": "code",
   "execution_count": 503,
   "metadata": {
    "colab": {
     "base_uri": "https://localhost:8080/",
     "height": 84
    },
    "colab_type": "code",
    "id": "4jzVNUXuGmeZ",
    "outputId": "20434c44-8b7d-4a7e-99d4-7cb8713db113"
   },
   "outputs": [
    {
     "data": {
      "text/plain": [
       "Index(['Store', 'Dept', 'Date', 'Weekly_Sales', 'IsHoliday', 'Type', 'Size',\n",
       "       'Temperature', 'Fuel_Price', 'CPI', 'Unemployment', 'Weeks_since_start',\n",
       "       'week_number_of_year'],\n",
       "      dtype='object')"
      ]
     },
     "execution_count": 503,
     "metadata": {
      "tags": []
     },
     "output_type": "execute_result"
    }
   ],
   "source": [
    "train.columns"
   ]
  },
  {
   "cell_type": "markdown",
   "metadata": {
    "colab_type": "text",
    "id": "IqBu--Aoi4Zu"
   },
   "source": [
    "##normalized several columns based on train data\n"
   ]
  },
  {
   "cell_type": "code",
   "execution_count": 0,
   "metadata": {
    "colab": {},
    "colab_type": "code",
    "id": "tVOYzKDE8kCG"
   },
   "outputs": [],
   "source": [
    "#reconstructure dataset based on the dates\n",
    "import datetime\n",
    "TRAIN_SPLIT = int(143*0.8)\n",
    "CUTOFFWEEKS =  datetime.timedelta(weeks = TRAIN_SPLIT)\n",
    "startDate = datetime.datetime.strptime(\"2010-02-05\",\"%Y-%m-%d\")\n",
    "#cutoff = pd.datetime('2010-02-05') + CUTOFFWEEKS \n",
    "cutoff_Date = startDate + CUTOFFWEEKS"
   ]
  },
  {
   "cell_type": "code",
   "execution_count": 0,
   "metadata": {
    "colab": {},
    "colab_type": "code",
    "id": "8cUY01YCigkl"
   },
   "outputs": [],
   "source": [
    "features_considered = ['Store', 'Dept', 'Date', 'Weekly_Sales', 'Temperature','Fuel_Price','CPI', 'Unemployment', 'Size']\n",
    "features = train[features_considered]\n",
    "\n",
    "dataset = features.iloc[:,3:].values\n"
   ]
  },
  {
   "cell_type": "code",
   "execution_count": 506,
   "metadata": {
    "colab": {
     "base_uri": "https://localhost:8080/",
     "height": 50
    },
    "colab_type": "code",
    "id": "ufcSXsnrjBMR",
    "outputId": "9167d79d-68de-40fa-d289-ab2832c9a0fa"
   },
   "outputs": [
    {
     "name": "stderr",
     "output_type": "stream",
     "text": [
      "/usr/local/lib/python3.6/dist-packages/ipykernel_launcher.py:5: RuntimeWarning: invalid value encountered in true_divide\n",
      "  \"\"\"\n"
     ]
    }
   ],
   "source": [
    "#data_mean = features[features.Date < cutoff_Date].iloc[:,3:].values.mean(axis = 0)\n",
    "#data_std = features[features.Date < cutoff_Date].iloc[:,3:].values.std(axis = 0)\n",
    "#dataset = (dataset-data_mean)/data_std\n",
    "\n",
    "data_max = features[features.Date < cutoff_Date].iloc[:,3:].values.max(axis = 0)\n",
    "data_min = features[features.Date < cutoff_Date].iloc[:,3:].values.min(axis = 0)\n",
    "\n",
    "dataset = (dataset - data_min)/(data_max - data_min)"
   ]
  },
  {
   "cell_type": "code",
   "execution_count": 0,
   "metadata": {
    "colab": {},
    "colab_type": "code",
    "id": "5aBqTJryjCAw"
   },
   "outputs": [],
   "source": [
    "train['Weekly_Sales'] = dataset[:,0]\n",
    "train['Temperature'] = dataset[:,1]\n",
    "train['Fuel_Price'] = dataset[:,2]\n",
    "train[\"CPI\"] = dataset[:,3]\n",
    "train[\"Unemployment\"] = dataset[:,4]\n",
    "train['Size'] = dataset[:,5]"
   ]
  },
  {
   "cell_type": "code",
   "execution_count": 514,
   "metadata": {
    "colab": {
     "base_uri": "https://localhost:8080/",
     "height": 300
    },
    "colab_type": "code",
    "id": "QlCetlhnjGFj",
    "outputId": "030f7490-3c72-4322-a966-96b385e7cb65"
   },
   "outputs": [
    {
     "data": {
      "text/html": [
       "<div>\n",
       "<style scoped>\n",
       "    .dataframe tbody tr th:only-of-type {\n",
       "        vertical-align: middle;\n",
       "    }\n",
       "\n",
       "    .dataframe tbody tr th {\n",
       "        vertical-align: top;\n",
       "    }\n",
       "\n",
       "    .dataframe thead th {\n",
       "        text-align: right;\n",
       "    }\n",
       "</style>\n",
       "<table border=\"1\" class=\"dataframe\">\n",
       "  <thead>\n",
       "    <tr style=\"text-align: right;\">\n",
       "      <th></th>\n",
       "      <th>Store</th>\n",
       "      <th>Dept</th>\n",
       "      <th>Date</th>\n",
       "      <th>Weekly_Sales</th>\n",
       "      <th>IsHoliday</th>\n",
       "      <th>Type</th>\n",
       "      <th>Size</th>\n",
       "      <th>Temperature</th>\n",
       "      <th>Fuel_Price</th>\n",
       "      <th>CPI</th>\n",
       "      <th>Unemployment</th>\n",
       "      <th>Weeks_since_start</th>\n",
       "      <th>week_number_of_year</th>\n",
       "    </tr>\n",
       "  </thead>\n",
       "  <tbody>\n",
       "    <tr>\n",
       "      <th>0</th>\n",
       "      <td>1</td>\n",
       "      <td>1</td>\n",
       "      <td>2010-02-05</td>\n",
       "      <td>0.122377</td>\n",
       "      <td>0</td>\n",
       "      <td>A</td>\n",
       "      <td>NaN</td>\n",
       "      <td>0.122844</td>\n",
       "      <td>0.041637</td>\n",
       "      <td>0.068383</td>\n",
       "      <td>1.0</td>\n",
       "      <td>0.0</td>\n",
       "      <td>5</td>\n",
       "    </tr>\n",
       "    <tr>\n",
       "      <th>1</th>\n",
       "      <td>1</td>\n",
       "      <td>1</td>\n",
       "      <td>2010-02-12</td>\n",
       "      <td>0.226049</td>\n",
       "      <td>1</td>\n",
       "      <td>A</td>\n",
       "      <td>NaN</td>\n",
       "      <td>0.055289</td>\n",
       "      <td>0.024408</td>\n",
       "      <td>0.081522</td>\n",
       "      <td>1.0</td>\n",
       "      <td>1.0</td>\n",
       "      <td>6</td>\n",
       "    </tr>\n",
       "    <tr>\n",
       "      <th>2</th>\n",
       "      <td>1</td>\n",
       "      <td>1</td>\n",
       "      <td>2010-02-19</td>\n",
       "      <td>0.204230</td>\n",
       "      <td>0</td>\n",
       "      <td>A</td>\n",
       "      <td>NaN</td>\n",
       "      <td>0.080533</td>\n",
       "      <td>0.000000</td>\n",
       "      <td>0.085754</td>\n",
       "      <td>1.0</td>\n",
       "      <td>2.0</td>\n",
       "      <td>7</td>\n",
       "    </tr>\n",
       "    <tr>\n",
       "      <th>3</th>\n",
       "      <td>1</td>\n",
       "      <td>1</td>\n",
       "      <td>2010-02-26</td>\n",
       "      <td>0.095269</td>\n",
       "      <td>0</td>\n",
       "      <td>A</td>\n",
       "      <td>NaN</td>\n",
       "      <td>0.199644</td>\n",
       "      <td>0.033740</td>\n",
       "      <td>0.088502</td>\n",
       "      <td>1.0</td>\n",
       "      <td>3.0</td>\n",
       "      <td>8</td>\n",
       "    </tr>\n",
       "    <tr>\n",
       "      <th>4</th>\n",
       "      <td>1</td>\n",
       "      <td>1</td>\n",
       "      <td>2010-03-05</td>\n",
       "      <td>0.107173</td>\n",
       "      <td>0</td>\n",
       "      <td>A</td>\n",
       "      <td>NaN</td>\n",
       "      <td>0.197333</td>\n",
       "      <td>0.079684</td>\n",
       "      <td>0.091251</td>\n",
       "      <td>1.0</td>\n",
       "      <td>4.0</td>\n",
       "      <td>9</td>\n",
       "    </tr>\n",
       "  </tbody>\n",
       "</table>\n",
       "</div>"
      ],
      "text/plain": [
       "   Store  Dept       Date  Weekly_Sales  IsHoliday Type  Size  Temperature  \\\n",
       "0      1     1 2010-02-05      0.122377          0    A   NaN     0.122844   \n",
       "1      1     1 2010-02-12      0.226049          1    A   NaN     0.055289   \n",
       "2      1     1 2010-02-19      0.204230          0    A   NaN     0.080533   \n",
       "3      1     1 2010-02-26      0.095269          0    A   NaN     0.199644   \n",
       "4      1     1 2010-03-05      0.107173          0    A   NaN     0.197333   \n",
       "\n",
       "   Fuel_Price       CPI  Unemployment  Weeks_since_start  week_number_of_year  \n",
       "0    0.041637  0.068383           1.0                0.0                    5  \n",
       "1    0.024408  0.081522           1.0                1.0                    6  \n",
       "2    0.000000  0.085754           1.0                2.0                    7  \n",
       "3    0.033740  0.088502           1.0                3.0                    8  \n",
       "4    0.079684  0.091251           1.0                4.0                    9  "
      ]
     },
     "execution_count": 514,
     "metadata": {
      "tags": []
     },
     "output_type": "execute_result"
    }
   ],
   "source": [
    "train.head()"
   ]
  },
  {
   "cell_type": "markdown",
   "metadata": {
    "colab_type": "text",
    "id": "iAp1so9qjw1y"
   },
   "source": [
    "## Dummies variable for Store, Dept, and Type"
   ]
  },
  {
   "cell_type": "code",
   "execution_count": 0,
   "metadata": {
    "colab": {},
    "colab_type": "code",
    "id": "1BPWNt1VUNpd"
   },
   "outputs": [],
   "source": [
    "#train = train[train['Store'] == 1]"
   ]
  },
  {
   "cell_type": "code",
   "execution_count": 515,
   "metadata": {
    "colab": {
     "base_uri": "https://localhost:8080/",
     "height": 251
    },
    "colab_type": "code",
    "id": "YiYPc9voUZm_",
    "outputId": "3a0468cc-86c8-436d-e304-a2a9f4786c0c"
   },
   "outputs": [
    {
     "data": {
      "text/plain": [
       "Store                  10244\n",
       "Dept                   10244\n",
       "Date                   10244\n",
       "Weekly_Sales           10244\n",
       "IsHoliday              10244\n",
       "Type                   10244\n",
       "Size                       0\n",
       "Temperature            10244\n",
       "Fuel_Price             10244\n",
       "CPI                    10244\n",
       "Unemployment           10244\n",
       "Weeks_since_start      10244\n",
       "week_number_of_year    10244\n",
       "dtype: int64"
      ]
     },
     "execution_count": 515,
     "metadata": {
      "tags": []
     },
     "output_type": "execute_result"
    }
   ],
   "source": [
    "train.count()"
   ]
  },
  {
   "cell_type": "code",
   "execution_count": 0,
   "metadata": {
    "colab": {},
    "colab_type": "code",
    "id": "8TwtHHyoj38H"
   },
   "outputs": [],
   "source": [
    "\n",
    "\n",
    "storetype_dummies = pd.get_dummies(train['Type'], prefix= \"Type:\")\n",
    "\n",
    "# store_dummies = pd.get_dummies(train['Store'], prefix= \"Store#:\")\n",
    "\n",
    "#train_withDummies = pd.concat([train, storetype_dummies,  store_dummies], axis = 1)\n",
    "\n",
    "dept_dummies = pd.get_dummies(train['Dept'], prefix= \"Dept#:\")\n",
    "train_withDummies = pd.concat([train, storetype_dummies, dept_dummies], axis = 1)\n",
    "\n",
    "#train_withDummies = pd.concat([train, storetype_dummies,  store_dummies, dept_dummies], axis = 1)\n"
   ]
  },
  {
   "cell_type": "code",
   "execution_count": 0,
   "metadata": {
    "colab": {},
    "colab_type": "code",
    "id": "qyE2sW2vkbxy"
   },
   "outputs": [],
   "source": [
    "train_withDummies.drop(columns=['Type'], axis = 1, inplace=True)\n"
   ]
  },
  {
   "cell_type": "code",
   "execution_count": 518,
   "metadata": {
    "colab": {
     "base_uri": "https://localhost:8080/",
     "height": 300
    },
    "colab_type": "code",
    "id": "dTFUTlz3kizR",
    "outputId": "c59d9f1f-99f0-4067-cf56-b121bbad96bc"
   },
   "outputs": [
    {
     "data": {
      "text/html": [
       "<div>\n",
       "<style scoped>\n",
       "    .dataframe tbody tr th:only-of-type {\n",
       "        vertical-align: middle;\n",
       "    }\n",
       "\n",
       "    .dataframe tbody tr th {\n",
       "        vertical-align: top;\n",
       "    }\n",
       "\n",
       "    .dataframe thead th {\n",
       "        text-align: right;\n",
       "    }\n",
       "</style>\n",
       "<table border=\"1\" class=\"dataframe\">\n",
       "  <thead>\n",
       "    <tr style=\"text-align: right;\">\n",
       "      <th></th>\n",
       "      <th>Store</th>\n",
       "      <th>Dept</th>\n",
       "      <th>Date</th>\n",
       "      <th>Weekly_Sales</th>\n",
       "      <th>IsHoliday</th>\n",
       "      <th>Size</th>\n",
       "      <th>Temperature</th>\n",
       "      <th>Fuel_Price</th>\n",
       "      <th>CPI</th>\n",
       "      <th>Unemployment</th>\n",
       "      <th>Weeks_since_start</th>\n",
       "      <th>week_number_of_year</th>\n",
       "      <th>Type:_A</th>\n",
       "      <th>Dept#:_1</th>\n",
       "      <th>Dept#:_2</th>\n",
       "      <th>Dept#:_3</th>\n",
       "      <th>Dept#:_4</th>\n",
       "      <th>Dept#:_5</th>\n",
       "      <th>Dept#:_6</th>\n",
       "      <th>Dept#:_7</th>\n",
       "      <th>Dept#:_8</th>\n",
       "      <th>Dept#:_9</th>\n",
       "      <th>Dept#:_10</th>\n",
       "      <th>Dept#:_11</th>\n",
       "      <th>Dept#:_12</th>\n",
       "      <th>Dept#:_13</th>\n",
       "      <th>Dept#:_14</th>\n",
       "      <th>Dept#:_16</th>\n",
       "      <th>Dept#:_17</th>\n",
       "      <th>Dept#:_18</th>\n",
       "      <th>Dept#:_19</th>\n",
       "      <th>Dept#:_20</th>\n",
       "      <th>Dept#:_21</th>\n",
       "      <th>Dept#:_22</th>\n",
       "      <th>Dept#:_23</th>\n",
       "      <th>Dept#:_24</th>\n",
       "      <th>Dept#:_25</th>\n",
       "      <th>Dept#:_26</th>\n",
       "      <th>Dept#:_27</th>\n",
       "      <th>Dept#:_28</th>\n",
       "      <th>Dept#:_29</th>\n",
       "      <th>Dept#:_30</th>\n",
       "      <th>Dept#:_31</th>\n",
       "      <th>Dept#:_32</th>\n",
       "      <th>Dept#:_33</th>\n",
       "      <th>Dept#:_34</th>\n",
       "      <th>Dept#:_35</th>\n",
       "      <th>Dept#:_36</th>\n",
       "      <th>Dept#:_37</th>\n",
       "      <th>Dept#:_38</th>\n",
       "      <th>Dept#:_40</th>\n",
       "      <th>Dept#:_41</th>\n",
       "      <th>Dept#:_42</th>\n",
       "      <th>Dept#:_44</th>\n",
       "      <th>Dept#:_45</th>\n",
       "      <th>Dept#:_46</th>\n",
       "      <th>Dept#:_47</th>\n",
       "      <th>Dept#:_48</th>\n",
       "      <th>Dept#:_49</th>\n",
       "      <th>Dept#:_51</th>\n",
       "      <th>Dept#:_52</th>\n",
       "      <th>Dept#:_54</th>\n",
       "      <th>Dept#:_55</th>\n",
       "      <th>Dept#:_56</th>\n",
       "      <th>Dept#:_58</th>\n",
       "      <th>Dept#:_59</th>\n",
       "      <th>Dept#:_60</th>\n",
       "      <th>Dept#:_67</th>\n",
       "      <th>Dept#:_71</th>\n",
       "      <th>Dept#:_72</th>\n",
       "      <th>Dept#:_74</th>\n",
       "      <th>Dept#:_77</th>\n",
       "      <th>Dept#:_78</th>\n",
       "      <th>Dept#:_79</th>\n",
       "      <th>Dept#:_80</th>\n",
       "      <th>Dept#:_81</th>\n",
       "      <th>Dept#:_82</th>\n",
       "      <th>Dept#:_83</th>\n",
       "      <th>Dept#:_85</th>\n",
       "      <th>Dept#:_87</th>\n",
       "      <th>Dept#:_90</th>\n",
       "      <th>Dept#:_91</th>\n",
       "      <th>Dept#:_92</th>\n",
       "      <th>Dept#:_93</th>\n",
       "      <th>Dept#:_94</th>\n",
       "      <th>Dept#:_95</th>\n",
       "      <th>Dept#:_96</th>\n",
       "      <th>Dept#:_97</th>\n",
       "      <th>Dept#:_98</th>\n",
       "      <th>Dept#:_99</th>\n",
       "    </tr>\n",
       "  </thead>\n",
       "  <tbody>\n",
       "    <tr>\n",
       "      <th>0</th>\n",
       "      <td>1</td>\n",
       "      <td>1</td>\n",
       "      <td>2010-02-05</td>\n",
       "      <td>0.122377</td>\n",
       "      <td>0</td>\n",
       "      <td>NaN</td>\n",
       "      <td>0.122844</td>\n",
       "      <td>0.041637</td>\n",
       "      <td>0.068383</td>\n",
       "      <td>1.0</td>\n",
       "      <td>0.0</td>\n",
       "      <td>5</td>\n",
       "      <td>1</td>\n",
       "      <td>1</td>\n",
       "      <td>0</td>\n",
       "      <td>0</td>\n",
       "      <td>0</td>\n",
       "      <td>0</td>\n",
       "      <td>0</td>\n",
       "      <td>0</td>\n",
       "      <td>0</td>\n",
       "      <td>0</td>\n",
       "      <td>0</td>\n",
       "      <td>0</td>\n",
       "      <td>0</td>\n",
       "      <td>0</td>\n",
       "      <td>0</td>\n",
       "      <td>0</td>\n",
       "      <td>0</td>\n",
       "      <td>0</td>\n",
       "      <td>0</td>\n",
       "      <td>0</td>\n",
       "      <td>0</td>\n",
       "      <td>0</td>\n",
       "      <td>0</td>\n",
       "      <td>0</td>\n",
       "      <td>0</td>\n",
       "      <td>0</td>\n",
       "      <td>0</td>\n",
       "      <td>0</td>\n",
       "      <td>0</td>\n",
       "      <td>0</td>\n",
       "      <td>0</td>\n",
       "      <td>0</td>\n",
       "      <td>0</td>\n",
       "      <td>0</td>\n",
       "      <td>0</td>\n",
       "      <td>0</td>\n",
       "      <td>0</td>\n",
       "      <td>0</td>\n",
       "      <td>0</td>\n",
       "      <td>0</td>\n",
       "      <td>0</td>\n",
       "      <td>0</td>\n",
       "      <td>0</td>\n",
       "      <td>0</td>\n",
       "      <td>0</td>\n",
       "      <td>0</td>\n",
       "      <td>0</td>\n",
       "      <td>0</td>\n",
       "      <td>0</td>\n",
       "      <td>0</td>\n",
       "      <td>0</td>\n",
       "      <td>0</td>\n",
       "      <td>0</td>\n",
       "      <td>0</td>\n",
       "      <td>0</td>\n",
       "      <td>0</td>\n",
       "      <td>0</td>\n",
       "      <td>0</td>\n",
       "      <td>0</td>\n",
       "      <td>0</td>\n",
       "      <td>0</td>\n",
       "      <td>0</td>\n",
       "      <td>0</td>\n",
       "      <td>0</td>\n",
       "      <td>0</td>\n",
       "      <td>0</td>\n",
       "      <td>0</td>\n",
       "      <td>0</td>\n",
       "      <td>0</td>\n",
       "      <td>0</td>\n",
       "      <td>0</td>\n",
       "      <td>0</td>\n",
       "      <td>0</td>\n",
       "      <td>0</td>\n",
       "      <td>0</td>\n",
       "      <td>0</td>\n",
       "      <td>0</td>\n",
       "      <td>0</td>\n",
       "    </tr>\n",
       "    <tr>\n",
       "      <th>1</th>\n",
       "      <td>1</td>\n",
       "      <td>1</td>\n",
       "      <td>2010-02-12</td>\n",
       "      <td>0.226049</td>\n",
       "      <td>1</td>\n",
       "      <td>NaN</td>\n",
       "      <td>0.055289</td>\n",
       "      <td>0.024408</td>\n",
       "      <td>0.081522</td>\n",
       "      <td>1.0</td>\n",
       "      <td>1.0</td>\n",
       "      <td>6</td>\n",
       "      <td>1</td>\n",
       "      <td>1</td>\n",
       "      <td>0</td>\n",
       "      <td>0</td>\n",
       "      <td>0</td>\n",
       "      <td>0</td>\n",
       "      <td>0</td>\n",
       "      <td>0</td>\n",
       "      <td>0</td>\n",
       "      <td>0</td>\n",
       "      <td>0</td>\n",
       "      <td>0</td>\n",
       "      <td>0</td>\n",
       "      <td>0</td>\n",
       "      <td>0</td>\n",
       "      <td>0</td>\n",
       "      <td>0</td>\n",
       "      <td>0</td>\n",
       "      <td>0</td>\n",
       "      <td>0</td>\n",
       "      <td>0</td>\n",
       "      <td>0</td>\n",
       "      <td>0</td>\n",
       "      <td>0</td>\n",
       "      <td>0</td>\n",
       "      <td>0</td>\n",
       "      <td>0</td>\n",
       "      <td>0</td>\n",
       "      <td>0</td>\n",
       "      <td>0</td>\n",
       "      <td>0</td>\n",
       "      <td>0</td>\n",
       "      <td>0</td>\n",
       "      <td>0</td>\n",
       "      <td>0</td>\n",
       "      <td>0</td>\n",
       "      <td>0</td>\n",
       "      <td>0</td>\n",
       "      <td>0</td>\n",
       "      <td>0</td>\n",
       "      <td>0</td>\n",
       "      <td>0</td>\n",
       "      <td>0</td>\n",
       "      <td>0</td>\n",
       "      <td>0</td>\n",
       "      <td>0</td>\n",
       "      <td>0</td>\n",
       "      <td>0</td>\n",
       "      <td>0</td>\n",
       "      <td>0</td>\n",
       "      <td>0</td>\n",
       "      <td>0</td>\n",
       "      <td>0</td>\n",
       "      <td>0</td>\n",
       "      <td>0</td>\n",
       "      <td>0</td>\n",
       "      <td>0</td>\n",
       "      <td>0</td>\n",
       "      <td>0</td>\n",
       "      <td>0</td>\n",
       "      <td>0</td>\n",
       "      <td>0</td>\n",
       "      <td>0</td>\n",
       "      <td>0</td>\n",
       "      <td>0</td>\n",
       "      <td>0</td>\n",
       "      <td>0</td>\n",
       "      <td>0</td>\n",
       "      <td>0</td>\n",
       "      <td>0</td>\n",
       "      <td>0</td>\n",
       "      <td>0</td>\n",
       "      <td>0</td>\n",
       "      <td>0</td>\n",
       "      <td>0</td>\n",
       "      <td>0</td>\n",
       "      <td>0</td>\n",
       "      <td>0</td>\n",
       "    </tr>\n",
       "    <tr>\n",
       "      <th>2</th>\n",
       "      <td>1</td>\n",
       "      <td>1</td>\n",
       "      <td>2010-02-19</td>\n",
       "      <td>0.204230</td>\n",
       "      <td>0</td>\n",
       "      <td>NaN</td>\n",
       "      <td>0.080533</td>\n",
       "      <td>0.000000</td>\n",
       "      <td>0.085754</td>\n",
       "      <td>1.0</td>\n",
       "      <td>2.0</td>\n",
       "      <td>7</td>\n",
       "      <td>1</td>\n",
       "      <td>1</td>\n",
       "      <td>0</td>\n",
       "      <td>0</td>\n",
       "      <td>0</td>\n",
       "      <td>0</td>\n",
       "      <td>0</td>\n",
       "      <td>0</td>\n",
       "      <td>0</td>\n",
       "      <td>0</td>\n",
       "      <td>0</td>\n",
       "      <td>0</td>\n",
       "      <td>0</td>\n",
       "      <td>0</td>\n",
       "      <td>0</td>\n",
       "      <td>0</td>\n",
       "      <td>0</td>\n",
       "      <td>0</td>\n",
       "      <td>0</td>\n",
       "      <td>0</td>\n",
       "      <td>0</td>\n",
       "      <td>0</td>\n",
       "      <td>0</td>\n",
       "      <td>0</td>\n",
       "      <td>0</td>\n",
       "      <td>0</td>\n",
       "      <td>0</td>\n",
       "      <td>0</td>\n",
       "      <td>0</td>\n",
       "      <td>0</td>\n",
       "      <td>0</td>\n",
       "      <td>0</td>\n",
       "      <td>0</td>\n",
       "      <td>0</td>\n",
       "      <td>0</td>\n",
       "      <td>0</td>\n",
       "      <td>0</td>\n",
       "      <td>0</td>\n",
       "      <td>0</td>\n",
       "      <td>0</td>\n",
       "      <td>0</td>\n",
       "      <td>0</td>\n",
       "      <td>0</td>\n",
       "      <td>0</td>\n",
       "      <td>0</td>\n",
       "      <td>0</td>\n",
       "      <td>0</td>\n",
       "      <td>0</td>\n",
       "      <td>0</td>\n",
       "      <td>0</td>\n",
       "      <td>0</td>\n",
       "      <td>0</td>\n",
       "      <td>0</td>\n",
       "      <td>0</td>\n",
       "      <td>0</td>\n",
       "      <td>0</td>\n",
       "      <td>0</td>\n",
       "      <td>0</td>\n",
       "      <td>0</td>\n",
       "      <td>0</td>\n",
       "      <td>0</td>\n",
       "      <td>0</td>\n",
       "      <td>0</td>\n",
       "      <td>0</td>\n",
       "      <td>0</td>\n",
       "      <td>0</td>\n",
       "      <td>0</td>\n",
       "      <td>0</td>\n",
       "      <td>0</td>\n",
       "      <td>0</td>\n",
       "      <td>0</td>\n",
       "      <td>0</td>\n",
       "      <td>0</td>\n",
       "      <td>0</td>\n",
       "      <td>0</td>\n",
       "      <td>0</td>\n",
       "      <td>0</td>\n",
       "      <td>0</td>\n",
       "    </tr>\n",
       "    <tr>\n",
       "      <th>3</th>\n",
       "      <td>1</td>\n",
       "      <td>1</td>\n",
       "      <td>2010-02-26</td>\n",
       "      <td>0.095269</td>\n",
       "      <td>0</td>\n",
       "      <td>NaN</td>\n",
       "      <td>0.199644</td>\n",
       "      <td>0.033740</td>\n",
       "      <td>0.088502</td>\n",
       "      <td>1.0</td>\n",
       "      <td>3.0</td>\n",
       "      <td>8</td>\n",
       "      <td>1</td>\n",
       "      <td>1</td>\n",
       "      <td>0</td>\n",
       "      <td>0</td>\n",
       "      <td>0</td>\n",
       "      <td>0</td>\n",
       "      <td>0</td>\n",
       "      <td>0</td>\n",
       "      <td>0</td>\n",
       "      <td>0</td>\n",
       "      <td>0</td>\n",
       "      <td>0</td>\n",
       "      <td>0</td>\n",
       "      <td>0</td>\n",
       "      <td>0</td>\n",
       "      <td>0</td>\n",
       "      <td>0</td>\n",
       "      <td>0</td>\n",
       "      <td>0</td>\n",
       "      <td>0</td>\n",
       "      <td>0</td>\n",
       "      <td>0</td>\n",
       "      <td>0</td>\n",
       "      <td>0</td>\n",
       "      <td>0</td>\n",
       "      <td>0</td>\n",
       "      <td>0</td>\n",
       "      <td>0</td>\n",
       "      <td>0</td>\n",
       "      <td>0</td>\n",
       "      <td>0</td>\n",
       "      <td>0</td>\n",
       "      <td>0</td>\n",
       "      <td>0</td>\n",
       "      <td>0</td>\n",
       "      <td>0</td>\n",
       "      <td>0</td>\n",
       "      <td>0</td>\n",
       "      <td>0</td>\n",
       "      <td>0</td>\n",
       "      <td>0</td>\n",
       "      <td>0</td>\n",
       "      <td>0</td>\n",
       "      <td>0</td>\n",
       "      <td>0</td>\n",
       "      <td>0</td>\n",
       "      <td>0</td>\n",
       "      <td>0</td>\n",
       "      <td>0</td>\n",
       "      <td>0</td>\n",
       "      <td>0</td>\n",
       "      <td>0</td>\n",
       "      <td>0</td>\n",
       "      <td>0</td>\n",
       "      <td>0</td>\n",
       "      <td>0</td>\n",
       "      <td>0</td>\n",
       "      <td>0</td>\n",
       "      <td>0</td>\n",
       "      <td>0</td>\n",
       "      <td>0</td>\n",
       "      <td>0</td>\n",
       "      <td>0</td>\n",
       "      <td>0</td>\n",
       "      <td>0</td>\n",
       "      <td>0</td>\n",
       "      <td>0</td>\n",
       "      <td>0</td>\n",
       "      <td>0</td>\n",
       "      <td>0</td>\n",
       "      <td>0</td>\n",
       "      <td>0</td>\n",
       "      <td>0</td>\n",
       "      <td>0</td>\n",
       "      <td>0</td>\n",
       "      <td>0</td>\n",
       "      <td>0</td>\n",
       "      <td>0</td>\n",
       "    </tr>\n",
       "    <tr>\n",
       "      <th>4</th>\n",
       "      <td>1</td>\n",
       "      <td>1</td>\n",
       "      <td>2010-03-05</td>\n",
       "      <td>0.107173</td>\n",
       "      <td>0</td>\n",
       "      <td>NaN</td>\n",
       "      <td>0.197333</td>\n",
       "      <td>0.079684</td>\n",
       "      <td>0.091251</td>\n",
       "      <td>1.0</td>\n",
       "      <td>4.0</td>\n",
       "      <td>9</td>\n",
       "      <td>1</td>\n",
       "      <td>1</td>\n",
       "      <td>0</td>\n",
       "      <td>0</td>\n",
       "      <td>0</td>\n",
       "      <td>0</td>\n",
       "      <td>0</td>\n",
       "      <td>0</td>\n",
       "      <td>0</td>\n",
       "      <td>0</td>\n",
       "      <td>0</td>\n",
       "      <td>0</td>\n",
       "      <td>0</td>\n",
       "      <td>0</td>\n",
       "      <td>0</td>\n",
       "      <td>0</td>\n",
       "      <td>0</td>\n",
       "      <td>0</td>\n",
       "      <td>0</td>\n",
       "      <td>0</td>\n",
       "      <td>0</td>\n",
       "      <td>0</td>\n",
       "      <td>0</td>\n",
       "      <td>0</td>\n",
       "      <td>0</td>\n",
       "      <td>0</td>\n",
       "      <td>0</td>\n",
       "      <td>0</td>\n",
       "      <td>0</td>\n",
       "      <td>0</td>\n",
       "      <td>0</td>\n",
       "      <td>0</td>\n",
       "      <td>0</td>\n",
       "      <td>0</td>\n",
       "      <td>0</td>\n",
       "      <td>0</td>\n",
       "      <td>0</td>\n",
       "      <td>0</td>\n",
       "      <td>0</td>\n",
       "      <td>0</td>\n",
       "      <td>0</td>\n",
       "      <td>0</td>\n",
       "      <td>0</td>\n",
       "      <td>0</td>\n",
       "      <td>0</td>\n",
       "      <td>0</td>\n",
       "      <td>0</td>\n",
       "      <td>0</td>\n",
       "      <td>0</td>\n",
       "      <td>0</td>\n",
       "      <td>0</td>\n",
       "      <td>0</td>\n",
       "      <td>0</td>\n",
       "      <td>0</td>\n",
       "      <td>0</td>\n",
       "      <td>0</td>\n",
       "      <td>0</td>\n",
       "      <td>0</td>\n",
       "      <td>0</td>\n",
       "      <td>0</td>\n",
       "      <td>0</td>\n",
       "      <td>0</td>\n",
       "      <td>0</td>\n",
       "      <td>0</td>\n",
       "      <td>0</td>\n",
       "      <td>0</td>\n",
       "      <td>0</td>\n",
       "      <td>0</td>\n",
       "      <td>0</td>\n",
       "      <td>0</td>\n",
       "      <td>0</td>\n",
       "      <td>0</td>\n",
       "      <td>0</td>\n",
       "      <td>0</td>\n",
       "      <td>0</td>\n",
       "      <td>0</td>\n",
       "      <td>0</td>\n",
       "      <td>0</td>\n",
       "    </tr>\n",
       "  </tbody>\n",
       "</table>\n",
       "</div>"
      ],
      "text/plain": [
       "   Store  Dept       Date  Weekly_Sales  IsHoliday  Size  Temperature  \\\n",
       "0      1     1 2010-02-05      0.122377          0   NaN     0.122844   \n",
       "1      1     1 2010-02-12      0.226049          1   NaN     0.055289   \n",
       "2      1     1 2010-02-19      0.204230          0   NaN     0.080533   \n",
       "3      1     1 2010-02-26      0.095269          0   NaN     0.199644   \n",
       "4      1     1 2010-03-05      0.107173          0   NaN     0.197333   \n",
       "\n",
       "   Fuel_Price       CPI  Unemployment  Weeks_since_start  week_number_of_year  \\\n",
       "0    0.041637  0.068383           1.0                0.0                    5   \n",
       "1    0.024408  0.081522           1.0                1.0                    6   \n",
       "2    0.000000  0.085754           1.0                2.0                    7   \n",
       "3    0.033740  0.088502           1.0                3.0                    8   \n",
       "4    0.079684  0.091251           1.0                4.0                    9   \n",
       "\n",
       "   Type:_A  Dept#:_1  Dept#:_2  Dept#:_3  Dept#:_4  Dept#:_5  Dept#:_6  \\\n",
       "0        1         1         0         0         0         0         0   \n",
       "1        1         1         0         0         0         0         0   \n",
       "2        1         1         0         0         0         0         0   \n",
       "3        1         1         0         0         0         0         0   \n",
       "4        1         1         0         0         0         0         0   \n",
       "\n",
       "   Dept#:_7  Dept#:_8  Dept#:_9  Dept#:_10  Dept#:_11  Dept#:_12  Dept#:_13  \\\n",
       "0         0         0         0          0          0          0          0   \n",
       "1         0         0         0          0          0          0          0   \n",
       "2         0         0         0          0          0          0          0   \n",
       "3         0         0         0          0          0          0          0   \n",
       "4         0         0         0          0          0          0          0   \n",
       "\n",
       "   Dept#:_14  Dept#:_16  Dept#:_17  Dept#:_18  Dept#:_19  Dept#:_20  \\\n",
       "0          0          0          0          0          0          0   \n",
       "1          0          0          0          0          0          0   \n",
       "2          0          0          0          0          0          0   \n",
       "3          0          0          0          0          0          0   \n",
       "4          0          0          0          0          0          0   \n",
       "\n",
       "   Dept#:_21  Dept#:_22  Dept#:_23  Dept#:_24  Dept#:_25  Dept#:_26  \\\n",
       "0          0          0          0          0          0          0   \n",
       "1          0          0          0          0          0          0   \n",
       "2          0          0          0          0          0          0   \n",
       "3          0          0          0          0          0          0   \n",
       "4          0          0          0          0          0          0   \n",
       "\n",
       "   Dept#:_27  Dept#:_28  Dept#:_29  Dept#:_30  Dept#:_31  Dept#:_32  \\\n",
       "0          0          0          0          0          0          0   \n",
       "1          0          0          0          0          0          0   \n",
       "2          0          0          0          0          0          0   \n",
       "3          0          0          0          0          0          0   \n",
       "4          0          0          0          0          0          0   \n",
       "\n",
       "   Dept#:_33  Dept#:_34  Dept#:_35  Dept#:_36  Dept#:_37  Dept#:_38  \\\n",
       "0          0          0          0          0          0          0   \n",
       "1          0          0          0          0          0          0   \n",
       "2          0          0          0          0          0          0   \n",
       "3          0          0          0          0          0          0   \n",
       "4          0          0          0          0          0          0   \n",
       "\n",
       "   Dept#:_40  Dept#:_41  Dept#:_42  Dept#:_44  Dept#:_45  Dept#:_46  \\\n",
       "0          0          0          0          0          0          0   \n",
       "1          0          0          0          0          0          0   \n",
       "2          0          0          0          0          0          0   \n",
       "3          0          0          0          0          0          0   \n",
       "4          0          0          0          0          0          0   \n",
       "\n",
       "   Dept#:_47  Dept#:_48  Dept#:_49  Dept#:_51  Dept#:_52  Dept#:_54  \\\n",
       "0          0          0          0          0          0          0   \n",
       "1          0          0          0          0          0          0   \n",
       "2          0          0          0          0          0          0   \n",
       "3          0          0          0          0          0          0   \n",
       "4          0          0          0          0          0          0   \n",
       "\n",
       "   Dept#:_55  Dept#:_56  Dept#:_58  Dept#:_59  Dept#:_60  Dept#:_67  \\\n",
       "0          0          0          0          0          0          0   \n",
       "1          0          0          0          0          0          0   \n",
       "2          0          0          0          0          0          0   \n",
       "3          0          0          0          0          0          0   \n",
       "4          0          0          0          0          0          0   \n",
       "\n",
       "   Dept#:_71  Dept#:_72  Dept#:_74  Dept#:_77  Dept#:_78  Dept#:_79  \\\n",
       "0          0          0          0          0          0          0   \n",
       "1          0          0          0          0          0          0   \n",
       "2          0          0          0          0          0          0   \n",
       "3          0          0          0          0          0          0   \n",
       "4          0          0          0          0          0          0   \n",
       "\n",
       "   Dept#:_80  Dept#:_81  Dept#:_82  Dept#:_83  Dept#:_85  Dept#:_87  \\\n",
       "0          0          0          0          0          0          0   \n",
       "1          0          0          0          0          0          0   \n",
       "2          0          0          0          0          0          0   \n",
       "3          0          0          0          0          0          0   \n",
       "4          0          0          0          0          0          0   \n",
       "\n",
       "   Dept#:_90  Dept#:_91  Dept#:_92  Dept#:_93  Dept#:_94  Dept#:_95  \\\n",
       "0          0          0          0          0          0          0   \n",
       "1          0          0          0          0          0          0   \n",
       "2          0          0          0          0          0          0   \n",
       "3          0          0          0          0          0          0   \n",
       "4          0          0          0          0          0          0   \n",
       "\n",
       "   Dept#:_96  Dept#:_97  Dept#:_98  Dept#:_99  \n",
       "0          0          0          0          0  \n",
       "1          0          0          0          0  \n",
       "2          0          0          0          0  \n",
       "3          0          0          0          0  \n",
       "4          0          0          0          0  "
      ]
     },
     "execution_count": 518,
     "metadata": {
      "tags": []
     },
     "output_type": "execute_result"
    }
   ],
   "source": [
    "train_withDummies.head()"
   ]
  },
  {
   "cell_type": "code",
   "execution_count": 0,
   "metadata": {
    "colab": {},
    "colab_type": "code",
    "id": "LIdRAhyuxUE8"
   },
   "outputs": [],
   "source": [
    "train_withDummies.drop(columns = ['Size'], axis =1, inplace = True)"
   ]
  },
  {
   "cell_type": "markdown",
   "metadata": {
    "colab_type": "text",
    "id": "gSXh0o0XGsFK"
   },
   "source": [
    "# 2 Multivariatate Single step model - Recurrent Neural Network with LSTM layers\n",
    "In a single step setup, the model learns to predict a single point in the future based on some history provided.\n"
   ]
  },
  {
   "cell_type": "code",
   "execution_count": 520,
   "metadata": {
    "colab": {
     "base_uri": "https://localhost:8080/",
     "height": 334
    },
    "colab_type": "code",
    "id": "a__azrz7oQvr",
    "outputId": "51c3f6e8-fc60-46bb-dee9-9c91666823fd"
   },
   "outputs": [
    {
     "data": {
      "text/plain": [
       "Index(['Store', 'Dept', 'Date', 'Weekly_Sales', 'IsHoliday', 'Temperature',\n",
       "       'Fuel_Price', 'CPI', 'Unemployment', 'Weeks_since_start',\n",
       "       'week_number_of_year', 'Type:_A', 'Dept#:_1', 'Dept#:_2', 'Dept#:_3',\n",
       "       'Dept#:_4', 'Dept#:_5', 'Dept#:_6', 'Dept#:_7', 'Dept#:_8', 'Dept#:_9',\n",
       "       'Dept#:_10', 'Dept#:_11', 'Dept#:_12', 'Dept#:_13', 'Dept#:_14',\n",
       "       'Dept#:_16', 'Dept#:_17', 'Dept#:_18', 'Dept#:_19', 'Dept#:_20',\n",
       "       'Dept#:_21', 'Dept#:_22', 'Dept#:_23', 'Dept#:_24', 'Dept#:_25',\n",
       "       'Dept#:_26', 'Dept#:_27', 'Dept#:_28', 'Dept#:_29', 'Dept#:_30',\n",
       "       'Dept#:_31', 'Dept#:_32', 'Dept#:_33', 'Dept#:_34', 'Dept#:_35',\n",
       "       'Dept#:_36', 'Dept#:_37', 'Dept#:_38', 'Dept#:_40', 'Dept#:_41',\n",
       "       'Dept#:_42', 'Dept#:_44', 'Dept#:_45', 'Dept#:_46', 'Dept#:_47',\n",
       "       'Dept#:_48', 'Dept#:_49', 'Dept#:_51', 'Dept#:_52', 'Dept#:_54',\n",
       "       'Dept#:_55', 'Dept#:_56', 'Dept#:_58', 'Dept#:_59', 'Dept#:_60',\n",
       "       'Dept#:_67', 'Dept#:_71', 'Dept#:_72', 'Dept#:_74', 'Dept#:_77',\n",
       "       'Dept#:_78', 'Dept#:_79', 'Dept#:_80', 'Dept#:_81', 'Dept#:_82',\n",
       "       'Dept#:_83', 'Dept#:_85', 'Dept#:_87', 'Dept#:_90', 'Dept#:_91',\n",
       "       'Dept#:_92', 'Dept#:_93', 'Dept#:_94', 'Dept#:_95', 'Dept#:_96',\n",
       "       'Dept#:_97', 'Dept#:_98', 'Dept#:_99'],\n",
       "      dtype='object')"
      ]
     },
     "execution_count": 520,
     "metadata": {
      "tags": []
     },
     "output_type": "execute_result"
    }
   ],
   "source": [
    "train_withDummies.columns"
   ]
  },
  {
   "cell_type": "code",
   "execution_count": 0,
   "metadata": {
    "colab": {},
    "colab_type": "code",
    "id": "j_73nCtopAG5"
   },
   "outputs": [],
   "source": [
    "#df_train = train_withDummies[train_withDummies['Store'] == 1]\n",
    "df_train = train_withDummies\n",
    "df_train.drop(columns='Date', axis = 1, inplace=True )\n"
   ]
  },
  {
   "cell_type": "code",
   "execution_count": 0,
   "metadata": {
    "colab": {},
    "colab_type": "code",
    "id": "2htJkeW4WNQe"
   },
   "outputs": [],
   "source": [
    "#df_train.drop(columns='Date', axis = 1, inplace=True )"
   ]
  },
  {
   "cell_type": "code",
   "execution_count": 551,
   "metadata": {
    "colab": {
     "base_uri": "https://localhost:8080/",
     "height": 33
    },
    "colab_type": "code",
    "id": "DseXHuQdo4aX",
    "outputId": "5152ea9a-742b-4023-e305-24d313fce8b4"
   },
   "outputs": [
    {
     "name": "stdout",
     "output_type": "stream",
     "text": [
      "28 99 (7259, 12, 86) (7259,)\n"
     ]
    }
   ],
   "source": [
    "# train dataset\n",
    "\n",
    "NumStores = 1 #45\n",
    "NumDept = 99  \n",
    "DeptInd = np.zeros((NumStores+1, NumDept+1))#(NumStores,100)\n",
    "\n",
    "#predict for next step\n",
    "history_size = 12\n",
    "target_size = 0\n",
    "step = 1\n",
    "single_step = True\n",
    "\n",
    "trainX =[]\n",
    "trainy =[] \n",
    "testX_sd =[]\n",
    "testY_sd =[]\n",
    "data = []\n",
    "labels = []\n",
    "\n",
    "splits = 0.8\n",
    "\n",
    "for k in  range(1,2): #range(1,NumStores+1): #\n",
    "  dept_list = list(set(data_training[data_training['Store'] ==k]['Dept']))\n",
    "  #print(dept_list)\n",
    "  for j in dept_list: #range(1,2): #\n",
    "    dataset_sd = df_train[(df_train['Store'] ==k) & (df_train['Dept']==j)].iloc[:,0:].values\n",
    "\n",
    "    if len(dataset_sd) >  history_size: \n",
    "      start_index = 0\n",
    "      start_index = start_index + history_size\n",
    "      \n",
    "      #if end_index is None:\n",
    "      end_index = int(dataset_sd.shape[0]*splits) - target_size\n",
    "          \n",
    "      for i in range(start_index, end_index):\n",
    "        indices = range(i-history_size, i, step)\n",
    "        data.append(dataset_sd[indices, 2:])\n",
    "\n",
    "        if single_step:\n",
    "          labels.append(dataset_sd[i+target_size,2])\n",
    "        else:\n",
    "          labels.append(dataset_sd[i:i+target_size,2])\n",
    "\n",
    "trainX , trainY = np.array(data), np.array(labels)\n",
    "print(i, j, trainX.shape, trainY.shape)\n"
   ]
  },
  {
   "cell_type": "code",
   "execution_count": 552,
   "metadata": {
    "colab": {
     "base_uri": "https://localhost:8080/",
     "height": 33
    },
    "colab_type": "code",
    "id": "zNSS0Q2a5IiN",
    "outputId": "375c4dfa-9856-4ad9-d26d-90992c71e6d4"
   },
   "outputs": [
    {
     "name": "stdout",
     "output_type": "stream",
     "text": [
      "36 99 (2078, 12, 86) (2078,)\n"
     ]
    }
   ],
   "source": [
    "# test dataset\n",
    "\n",
    "testX_sd =[]\n",
    "testY_sd =[]\n",
    "data = []\n",
    "labels = []\n",
    "\n",
    "splits = 0.8\n",
    "\n",
    "for k in range(1,2): #range(1,NumStores+1): # \n",
    "  dept_list = list(set(data_training[data_training['Store'] ==k]['Dept']))\n",
    "  #print(dept_list)\n",
    "  for j in dept_list: #range(1,2): #\n",
    "    dataset_sd = df_train[(df_train['Store'] ==k) & (df_train['Dept']==j)].iloc[:,0:].values\n",
    "\n",
    "    if len(dataset_sd) >  history_size:\n",
    "\n",
    "      start_index = int(dataset_sd.shape[0]*splits)\n",
    "      start_index = start_index #+ history_size\n",
    "      \n",
    "      #if end_index is None:\n",
    "      end_index = dataset_sd.shape[0] - target_size\n",
    "          \n",
    "      for i in range(start_index, end_index):\n",
    "        indices = range(i-history_size, i, step)\n",
    "        data.append(dataset_sd[indices, 2:])\n",
    "\n",
    "        if single_step:\n",
    "          labels.append(dataset_sd[i+target_size,2])\n",
    "        else:\n",
    "          labels.append(dataset_sd[i:i+target_size,2])\n",
    "\n",
    "testX, testY = np.array(data), np.array(labels)\n",
    "print(i, j, testX.shape, testY.shape)\n",
    "#    trainX = np.stack((trainX, X_sd),axis =0)\n",
    "#    trainy = np.stack((trainy, y_sd),axis = 0)"
   ]
  },
  {
   "cell_type": "code",
   "execution_count": 0,
   "metadata": {
    "colab": {},
    "colab_type": "code",
    "id": "Stp0JfCH1V5F"
   },
   "outputs": [],
   "source": [
    "import tensorflow as tf\n",
    "BATCH_SIZE = 256\n",
    "BUFFER_SIZE = 10000\n",
    "\n",
    "train_data_single = tf.data.Dataset.from_tensor_slices((trainX, trainY))\n",
    "train_data_single = train_data_single.cache().shuffle(BUFFER_SIZE).batch(BATCH_SIZE).repeat()\n",
    "\n",
    "val_data_single = tf.data.Dataset.from_tensor_slices((testX, testY))\n",
    "val_data_single = val_data_single.batch(BATCH_SIZE).repeat()"
   ]
  },
  {
   "cell_type": "code",
   "execution_count": 426,
   "metadata": {
    "colab": {
     "base_uri": "https://localhost:8080/",
     "height": 33
    },
    "colab_type": "code",
    "id": "130PNLQkclPt",
    "outputId": "7343d351-8d18-4285-a5d6-7b99e245ba6c"
   },
   "outputs": [
    {
     "name": "stdout",
     "output_type": "stream",
     "text": [
      "(7259, 12, 86) (7259,)\n"
     ]
    }
   ],
   "source": [
    "print(trainX.shape, trainY.shape)"
   ]
  },
  {
   "cell_type": "code",
   "execution_count": 0,
   "metadata": {
    "colab": {},
    "colab_type": "code",
    "id": "d8Wd4NKRsNz-"
   },
   "outputs": [],
   "source": [
    "\n",
    "single_step_model = tf.keras.models.Sequential()\n",
    "single_step_model.add(tf.keras.layers.LSTM(128,\n",
    "                                           input_shape=trainX.shape[-2:] ))\n",
    "single_step_model.add(tf.keras.layers.Dropout(0.2))\n",
    "#single_step_model.add(tf.keras.layers.LSTM(64))\n",
    "#single_step_model.add(tf.keras.layers.Dropout(0.2))\n",
    "\n",
    "single_step_model.add(tf.keras.layers.Dense(64,activation = 'tanh'))\n",
    "\n",
    "\n",
    "#single_step_model.add(Drooput())\n",
    "single_step_model.add(tf.keras.layers.Dense(32,activation = 'tanh'))\n",
    "\n",
    "# Adding a third LSTM layer and some Dropout regularisation\n",
    "#regressor.add(LSTM(units = 50, return_sequences = True))\n",
    "#regressor.add(Dropout(0.2))\n",
    "single_step_model.add(tf.keras.layers.Dense(16, activation = 'tanh'))\n",
    "\n",
    "\n",
    "single_step_model.add(tf.keras.layers.Dense(1))\n",
    "single_step_model.compile(optimizer=tf.keras.optimizers.Adam(), loss =\"mae\")\n",
    "#single_step_model.compile(optimizer=tf.keras.optimizers.RMSprop(), loss='mae')\n"
   ]
  },
  {
   "cell_type": "code",
   "execution_count": 533,
   "metadata": {
    "colab": {
     "base_uri": "https://localhost:8080/",
     "height": 418
    },
    "colab_type": "code",
    "id": "oH0E6lgTkzLY",
    "outputId": "949b2364-7557-40cc-bf36-d3823b650e69"
   },
   "outputs": [
    {
     "name": "stdout",
     "output_type": "stream",
     "text": [
      "Model: \"sequential_9\"\n",
      "_________________________________________________________________\n",
      "Layer (type)                 Output Shape              Param #   \n",
      "=================================================================\n",
      "lstm_9 (LSTM)                (None, 52, 128)           110080    \n",
      "_________________________________________________________________\n",
      "dropout_9 (Dropout)          (None, 52, 128)           0         \n",
      "_________________________________________________________________\n",
      "lstm_10 (LSTM)               (None, 64)                49408     \n",
      "_________________________________________________________________\n",
      "dropout_10 (Dropout)         (None, 64)                0         \n",
      "_________________________________________________________________\n",
      "dense_36 (Dense)             (None, 32)                2080      \n",
      "_________________________________________________________________\n",
      "dense_37 (Dense)             (None, 16)                528       \n",
      "_________________________________________________________________\n",
      "dense_38 (Dense)             (None, 16)                272       \n",
      "_________________________________________________________________\n",
      "dense_39 (Dense)             (None, 1)                 17        \n",
      "=================================================================\n",
      "Total params: 162,385\n",
      "Trainable params: 162,385\n",
      "Non-trainable params: 0\n",
      "_________________________________________________________________\n"
     ]
    }
   ],
   "source": [
    "single_step_model.summary()"
   ]
  },
  {
   "cell_type": "code",
   "execution_count": 562,
   "metadata": {
    "colab": {
     "base_uri": "https://localhost:8080/",
     "height": 1000
    },
    "colab_type": "code",
    "id": "r6y5UNrrJnzr",
    "outputId": "dacd0064-01f2-4e15-81bd-ed8da2eaa568"
   },
   "outputs": [
    {
     "name": "stdout",
     "output_type": "stream",
     "text": [
      "Epoch 1/100\n",
      "50/50 [==============================] - 1s 18ms/step - loss: 0.1232 - val_loss: 0.0846\n",
      "Epoch 2/100\n",
      "50/50 [==============================] - 0s 10ms/step - loss: 0.0895 - val_loss: 0.0790\n",
      "Epoch 3/100\n",
      "50/50 [==============================] - 0s 9ms/step - loss: 0.0834 - val_loss: 0.0796\n",
      "Epoch 4/100\n",
      "50/50 [==============================] - 0s 10ms/step - loss: 0.0634 - val_loss: 0.0547\n",
      "Epoch 5/100\n",
      "50/50 [==============================] - 0s 9ms/step - loss: 0.0399 - val_loss: 0.0452\n",
      "Epoch 6/100\n",
      "50/50 [==============================] - 0s 10ms/step - loss: 0.0284 - val_loss: 0.0313\n",
      "Epoch 7/100\n",
      "50/50 [==============================] - 0s 10ms/step - loss: 0.0242 - val_loss: 0.0286\n",
      "Epoch 8/100\n",
      "50/50 [==============================] - 0s 10ms/step - loss: 0.0224 - val_loss: 0.0250\n",
      "Epoch 9/100\n",
      "50/50 [==============================] - 0s 9ms/step - loss: 0.0218 - val_loss: 0.0268\n",
      "Epoch 10/100\n",
      "50/50 [==============================] - 0s 10ms/step - loss: 0.0195 - val_loss: 0.0248\n",
      "Epoch 11/100\n",
      "50/50 [==============================] - 0s 10ms/step - loss: 0.0195 - val_loss: 0.0237\n",
      "Epoch 12/100\n",
      "50/50 [==============================] - 0s 10ms/step - loss: 0.0203 - val_loss: 0.0200\n",
      "Epoch 13/100\n",
      "50/50 [==============================] - 0s 10ms/step - loss: 0.0189 - val_loss: 0.0186\n",
      "Epoch 14/100\n",
      "50/50 [==============================] - 0s 9ms/step - loss: 0.0194 - val_loss: 0.0201\n",
      "Epoch 15/100\n",
      "50/50 [==============================] - 0s 10ms/step - loss: 0.0178 - val_loss: 0.0198\n",
      "Epoch 16/100\n",
      "50/50 [==============================] - 0s 9ms/step - loss: 0.0168 - val_loss: 0.0166\n",
      "Epoch 17/100\n",
      "50/50 [==============================] - 0s 10ms/step - loss: 0.0169 - val_loss: 0.0222\n",
      "Epoch 18/100\n",
      "50/50 [==============================] - 0s 10ms/step - loss: 0.0164 - val_loss: 0.0215\n",
      "Epoch 19/100\n",
      "50/50 [==============================] - 0s 9ms/step - loss: 0.0173 - val_loss: 0.0221\n",
      "Epoch 20/100\n",
      "50/50 [==============================] - 0s 10ms/step - loss: 0.0173 - val_loss: 0.0168\n",
      "Epoch 21/100\n",
      "50/50 [==============================] - 0s 10ms/step - loss: 0.0164 - val_loss: 0.0166\n",
      "Epoch 22/100\n",
      "50/50 [==============================] - 0s 10ms/step - loss: 0.0159 - val_loss: 0.0143\n",
      "Epoch 23/100\n",
      "50/50 [==============================] - 0s 10ms/step - loss: 0.0157 - val_loss: 0.0146\n",
      "Epoch 24/100\n",
      "50/50 [==============================] - 0s 9ms/step - loss: 0.0151 - val_loss: 0.0168\n",
      "Epoch 25/100\n",
      "50/50 [==============================] - 0s 10ms/step - loss: 0.0163 - val_loss: 0.0164\n",
      "Epoch 26/100\n",
      "50/50 [==============================] - 0s 10ms/step - loss: 0.0159 - val_loss: 0.0170\n",
      "Epoch 27/100\n",
      "50/50 [==============================] - 1s 10ms/step - loss: 0.0153 - val_loss: 0.0162\n",
      "Epoch 28/100\n",
      "50/50 [==============================] - 0s 10ms/step - loss: 0.0148 - val_loss: 0.0136\n",
      "Epoch 29/100\n",
      "50/50 [==============================] - 0s 10ms/step - loss: 0.0156 - val_loss: 0.0176\n",
      "Epoch 30/100\n",
      "50/50 [==============================] - 0s 9ms/step - loss: 0.0143 - val_loss: 0.0158\n",
      "Epoch 31/100\n",
      "50/50 [==============================] - 0s 10ms/step - loss: 0.0147 - val_loss: 0.0153\n",
      "Epoch 32/100\n",
      "50/50 [==============================] - 0s 10ms/step - loss: 0.0147 - val_loss: 0.0164\n",
      "Epoch 33/100\n",
      "50/50 [==============================] - 0s 10ms/step - loss: 0.0143 - val_loss: 0.0129\n",
      "Epoch 34/100\n",
      "50/50 [==============================] - 0s 10ms/step - loss: 0.0153 - val_loss: 0.0146\n",
      "Epoch 35/100\n",
      "50/50 [==============================] - 0s 10ms/step - loss: 0.0147 - val_loss: 0.0143\n",
      "Epoch 36/100\n",
      "50/50 [==============================] - 0s 10ms/step - loss: 0.0146 - val_loss: 0.0130\n",
      "Epoch 37/100\n",
      "50/50 [==============================] - 0s 9ms/step - loss: 0.0140 - val_loss: 0.0139\n",
      "Epoch 38/100\n",
      "50/50 [==============================] - 0s 10ms/step - loss: 0.0138 - val_loss: 0.0164\n",
      "Epoch 39/100\n",
      "50/50 [==============================] - 0s 10ms/step - loss: 0.0141 - val_loss: 0.0140\n",
      "Epoch 40/100\n",
      "50/50 [==============================] - 1s 10ms/step - loss: 0.0144 - val_loss: 0.0156\n",
      "Epoch 41/100\n",
      "50/50 [==============================] - 0s 10ms/step - loss: 0.0151 - val_loss: 0.0135\n",
      "Epoch 42/100\n",
      "50/50 [==============================] - 0s 10ms/step - loss: 0.0135 - val_loss: 0.0174\n",
      "Epoch 43/100\n",
      "50/50 [==============================] - 0s 9ms/step - loss: 0.0139 - val_loss: 0.0187\n",
      "Epoch 44/100\n",
      "50/50 [==============================] - 0s 10ms/step - loss: 0.0133 - val_loss: 0.0129\n",
      "Epoch 45/100\n",
      "50/50 [==============================] - 0s 10ms/step - loss: 0.0136 - val_loss: 0.0168\n",
      "Epoch 46/100\n",
      "50/50 [==============================] - 0s 10ms/step - loss: 0.0133 - val_loss: 0.0139\n",
      "Epoch 47/100\n",
      "50/50 [==============================] - 0s 10ms/step - loss: 0.0136 - val_loss: 0.0160\n",
      "Epoch 48/100\n",
      "50/50 [==============================] - 0s 10ms/step - loss: 0.0133 - val_loss: 0.0140\n",
      "Epoch 49/100\n",
      "50/50 [==============================] - 0s 10ms/step - loss: 0.0129 - val_loss: 0.0134\n",
      "Epoch 50/100\n",
      "50/50 [==============================] - 0s 10ms/step - loss: 0.0134 - val_loss: 0.0123\n",
      "Epoch 51/100\n",
      "50/50 [==============================] - 0s 10ms/step - loss: 0.0140 - val_loss: 0.0138\n",
      "Epoch 52/100\n",
      "50/50 [==============================] - 0s 9ms/step - loss: 0.0127 - val_loss: 0.0132\n",
      "Epoch 53/100\n",
      "50/50 [==============================] - 0s 10ms/step - loss: 0.0132 - val_loss: 0.0111\n",
      "Epoch 54/100\n",
      "50/50 [==============================] - 0s 10ms/step - loss: 0.0143 - val_loss: 0.0140\n",
      "Epoch 55/100\n",
      "50/50 [==============================] - 0s 10ms/step - loss: 0.0134 - val_loss: 0.0154\n",
      "Epoch 56/100\n",
      "50/50 [==============================] - 0s 10ms/step - loss: 0.0127 - val_loss: 0.0137\n",
      "Epoch 57/100\n",
      "50/50 [==============================] - 0s 10ms/step - loss: 0.0132 - val_loss: 0.0145\n",
      "Epoch 58/100\n",
      "50/50 [==============================] - 0s 10ms/step - loss: 0.0135 - val_loss: 0.0130\n",
      "Epoch 59/100\n",
      "50/50 [==============================] - 0s 10ms/step - loss: 0.0128 - val_loss: 0.0130\n",
      "Epoch 60/100\n",
      "50/50 [==============================] - 0s 10ms/step - loss: 0.0122 - val_loss: 0.0125\n",
      "Epoch 61/100\n",
      "50/50 [==============================] - 1s 10ms/step - loss: 0.0126 - val_loss: 0.0118\n",
      "Epoch 62/100\n",
      "50/50 [==============================] - 0s 10ms/step - loss: 0.0125 - val_loss: 0.0117\n",
      "Epoch 63/100\n",
      "50/50 [==============================] - 0s 9ms/step - loss: 0.0122 - val_loss: 0.0109\n",
      "Epoch 64/100\n",
      "50/50 [==============================] - 0s 10ms/step - loss: 0.0126 - val_loss: 0.0113\n",
      "Epoch 65/100\n",
      "50/50 [==============================] - 0s 9ms/step - loss: 0.0122 - val_loss: 0.0193\n",
      "Epoch 66/100\n",
      "50/50 [==============================] - 0s 9ms/step - loss: 0.0127 - val_loss: 0.0116\n",
      "Epoch 67/100\n",
      "50/50 [==============================] - 0s 9ms/step - loss: 0.0124 - val_loss: 0.0124\n",
      "Epoch 68/100\n",
      "50/50 [==============================] - 0s 9ms/step - loss: 0.0118 - val_loss: 0.0125\n",
      "Epoch 69/100\n",
      "50/50 [==============================] - 0s 10ms/step - loss: 0.0121 - val_loss: 0.0120\n",
      "Epoch 70/100\n",
      "50/50 [==============================] - 0s 9ms/step - loss: 0.0120 - val_loss: 0.0114\n",
      "Epoch 71/100\n",
      "50/50 [==============================] - 0s 10ms/step - loss: 0.0119 - val_loss: 0.0129\n",
      "Epoch 72/100\n",
      "50/50 [==============================] - 0s 9ms/step - loss: 0.0118 - val_loss: 0.0126\n",
      "Epoch 73/100\n",
      "50/50 [==============================] - 0s 10ms/step - loss: 0.0122 - val_loss: 0.0126\n",
      "Epoch 74/100\n",
      "50/50 [==============================] - 0s 10ms/step - loss: 0.0121 - val_loss: 0.0136\n",
      "Epoch 75/100\n",
      "50/50 [==============================] - 0s 10ms/step - loss: 0.0116 - val_loss: 0.0108\n",
      "Epoch 76/100\n",
      "50/50 [==============================] - 0s 10ms/step - loss: 0.0115 - val_loss: 0.0135\n",
      "Epoch 77/100\n",
      "50/50 [==============================] - 0s 9ms/step - loss: 0.0113 - val_loss: 0.0121\n",
      "Epoch 78/100\n",
      "50/50 [==============================] - 0s 9ms/step - loss: 0.0117 - val_loss: 0.0207\n",
      "Epoch 79/100\n",
      "50/50 [==============================] - 0s 10ms/step - loss: 0.0123 - val_loss: 0.0111\n",
      "Epoch 80/100\n",
      "50/50 [==============================] - 0s 10ms/step - loss: 0.0119 - val_loss: 0.0103\n",
      "Epoch 81/100\n",
      "50/50 [==============================] - 1s 11ms/step - loss: 0.0115 - val_loss: 0.0113\n",
      "Epoch 82/100\n",
      "50/50 [==============================] - 1s 10ms/step - loss: 0.0114 - val_loss: 0.0124\n",
      "Epoch 83/100\n",
      "50/50 [==============================] - 1s 11ms/step - loss: 0.0112 - val_loss: 0.0116\n",
      "Epoch 84/100\n",
      "50/50 [==============================] - 1s 10ms/step - loss: 0.0113 - val_loss: 0.0112\n",
      "Epoch 85/100\n",
      "50/50 [==============================] - 1s 11ms/step - loss: 0.0113 - val_loss: 0.0138\n",
      "Epoch 86/100\n",
      "50/50 [==============================] - 1s 10ms/step - loss: 0.0113 - val_loss: 0.0117\n",
      "Epoch 87/100\n",
      "50/50 [==============================] - 1s 11ms/step - loss: 0.0112 - val_loss: 0.0113\n",
      "Epoch 88/100\n",
      "50/50 [==============================] - 1s 10ms/step - loss: 0.0112 - val_loss: 0.0115\n",
      "Epoch 89/100\n",
      "50/50 [==============================] - 1s 10ms/step - loss: 0.0111 - val_loss: 0.0130\n",
      "Epoch 90/100\n",
      "50/50 [==============================] - 1s 10ms/step - loss: 0.0112 - val_loss: 0.0112\n",
      "Epoch 91/100\n",
      "50/50 [==============================] - 1s 10ms/step - loss: 0.0112 - val_loss: 0.0122\n",
      "Epoch 92/100\n",
      "50/50 [==============================] - 1s 11ms/step - loss: 0.0111 - val_loss: 0.0105\n",
      "Epoch 93/100\n",
      "50/50 [==============================] - 1s 11ms/step - loss: 0.0108 - val_loss: 0.0120\n",
      "Epoch 94/100\n",
      "50/50 [==============================] - 1s 10ms/step - loss: 0.0113 - val_loss: 0.0112\n",
      "Epoch 95/100\n",
      "50/50 [==============================] - 1s 10ms/step - loss: 0.0110 - val_loss: 0.0109\n",
      "Epoch 96/100\n",
      "50/50 [==============================] - 1s 10ms/step - loss: 0.0106 - val_loss: 0.0110\n",
      "Epoch 97/100\n",
      "50/50 [==============================] - 1s 11ms/step - loss: 0.0108 - val_loss: 0.0120\n",
      "Epoch 98/100\n",
      "50/50 [==============================] - 1s 11ms/step - loss: 0.0105 - val_loss: 0.0118\n",
      "Epoch 99/100\n",
      "50/50 [==============================] - 1s 10ms/step - loss: 0.0108 - val_loss: 0.0101\n",
      "Epoch 100/100\n",
      "50/50 [==============================] - 1s 10ms/step - loss: 0.0110 - val_loss: 0.0113\n"
     ]
    }
   ],
   "source": [
    "EVALUATION_INTERVAL = 50\n",
    "EPOCHS = 100\n",
    "\n",
    "single_step_history = single_step_model.fit(train_data_single, epochs=EPOCHS,\n",
    "                                            steps_per_epoch=EVALUATION_INTERVAL,\n",
    "                                            validation_data=val_data_single,\n",
    "                                            validation_steps=50)"
   ]
  },
  {
   "cell_type": "code",
   "execution_count": 0,
   "metadata": {
    "colab": {},
    "colab_type": "code",
    "id": "-kJvi4BYgTpu"
   },
   "outputs": [],
   "source": [
    "\n",
    "def create_time_steps(length):\n",
    "  return list(range(-length, 0))\n",
    "\n",
    "def show_plot(plot_data, delta, title):\n",
    "  labels = ['History', 'True Future', 'Model Prediction']\n",
    "  marker = ['.-', 'rx', 'go']\n",
    "  time_steps = create_time_steps(plot_data[0].shape[0])\n",
    "  if delta:\n",
    "    future = delta\n",
    "  else:\n",
    "    future = 0\n",
    "\n",
    "  plt.title(title)\n",
    "  for i, x in enumerate(plot_data):\n",
    "    if i:\n",
    "      plt.plot(future, plot_data[i], marker[i], markersize=10,\n",
    "               label=labels[i])\n",
    "    else:\n",
    "      plt.plot(time_steps, plot_data[i].flatten(), marker[i], label=labels[i])\n",
    "  plt.legend()\n",
    "  plt.xlim([time_steps[0], (future+5)*2])\n",
    "  plt.xlabel('Time-Step')\n",
    "  return plt"
   ]
  },
  {
   "cell_type": "code",
   "execution_count": 564,
   "metadata": {
    "colab": {
     "base_uri": "https://localhost:8080/",
     "height": 33
    },
    "colab_type": "code",
    "id": "kjWb4AM6haEJ",
    "outputId": "bd729088-a22b-4cd7-99b5-c808681cf804"
   },
   "outputs": [
    {
     "name": "stdout",
     "output_type": "stream",
     "text": [
      "(256, 1)\n"
     ]
    }
   ],
   "source": [
    "for x, y in train_data_single.take(1):\n",
    "  print(single_step_model.predict(x).shape)"
   ]
  },
  {
   "cell_type": "code",
   "execution_count": 0,
   "metadata": {
    "colab": {},
    "colab_type": "code",
    "id": "M520m5csgKSg"
   },
   "outputs": [],
   "source": [
    "def plot_train_history(history, title):\n",
    "  loss = history.history['loss']\n",
    "  val_loss = history.history['val_loss']\n",
    "  \n",
    "  epochs = range(len(loss))\n",
    "\n",
    "  plt.figure()\n",
    "\n",
    "  plt.plot(epochs, loss, 'b', label='Training loss')\n",
    "  plt.plot(epochs, val_loss, 'r', label='Validation loss')\n",
    "  plt.title(title)\n",
    "  plt.legend()\n",
    "\n",
    "  plt.show()"
   ]
  },
  {
   "cell_type": "code",
   "execution_count": 566,
   "metadata": {
    "colab": {
     "base_uri": "https://localhost:8080/",
     "height": 281
    },
    "colab_type": "code",
    "id": "Co6fEEI5hk5f",
    "outputId": "e76ef75e-05b9-4fd9-fe75-2ee210cf97c3"
   },
   "outputs": [
    {
     "data": {
      "image/png": "[encoded data removed]",
      "text/plain": [
       "<Figure size 432x288 with 1 Axes>"
      ]
     },
     "metadata": {
      "tags": []
     },
     "output_type": "display_data"
    }
   ],
   "source": [
    "plot_train_history(single_step_history,\n",
    "                   'Single Step Training and validation loss')"
   ]
  },
  {
   "cell_type": "code",
   "execution_count": 567,
   "metadata": {
    "colab": {
     "base_uri": "https://localhost:8080/",
     "height": 851
    },
    "colab_type": "code",
    "id": "4a7s1DxVhs6o",
    "outputId": "1e53d5ab-c8f1-4e4f-c26f-43440b029e5d"
   },
   "outputs": [
    {
     "data": {
      "image/png": "[encoded data removed]",
      "text/plain": [
       "<Figure size 432x288 with 1 Axes>"
      ]
     },
     "metadata": {
      "tags": []
     },
     "output_type": "display_data"
    },
    {
     "data": {
      "image/png": "[encoded data removed]",
      "text/plain": [
       "<Figure size 432x288 with 1 Axes>"
      ]
     },
     "metadata": {
      "tags": []
     },
     "output_type": "display_data"
    },
    {
     "data": {
      "image/png": "[encoded data removed]",
      "text/plain": [
       "<Figure size 432x288 with 1 Axes>"
      ]
     },
     "metadata": {
      "tags": []
     },
     "output_type": "display_data"
    }
   ],
   "source": [
    "for x, y in val_data_single.take(3):\n",
    "  plot = show_plot([x[0][:, 2].numpy(), y[0].numpy(),\n",
    "                    single_step_model.predict(x)[0]], 0, \n",
    "                   'Single Step Prediction')\n",
    "  plot.show()"
   ]
  },
  {
   "cell_type": "code",
   "execution_count": 568,
   "metadata": {
    "colab": {
     "base_uri": "https://localhost:8080/",
     "height": 33
    },
    "colab_type": "code",
    "id": "h32S9h93_nSN",
    "outputId": "a88e60a0-87b1-4f68-d447-07188a4b8772"
   },
   "outputs": [
    {
     "name": "stdout",
     "output_type": "stream",
     "text": [
      "114/114 [==============================] - 0s 3ms/step\n"
     ]
    }
   ],
   "source": [
    "# make prediction \n",
    "trainPredict =single_step_model.predict(trainX,batch_size = 64,verbose=1)"
   ]
  },
  {
   "cell_type": "code",
   "execution_count": 137,
   "metadata": {
    "colab": {
     "base_uri": "https://localhost:8080/",
     "height": 33
    },
    "colab_type": "code",
    "id": "JXkV-EWf8AcL",
    "outputId": "a9dbfba6-9bad-4d1a-9654-d3841388ec9b"
   },
   "outputs": [
    {
     "data": {
      "text/plain": [
       "(7259, 1)"
      ]
     },
     "execution_count": 137,
     "metadata": {
      "tags": []
     },
     "output_type": "execute_result"
    }
   ],
   "source": [
    "np.array(trainPredict).shape"
   ]
  },
  {
   "cell_type": "code",
   "execution_count": 569,
   "metadata": {
    "colab": {
     "base_uri": "https://localhost:8080/",
     "height": 33
    },
    "colab_type": "code",
    "id": "mQblfWg2jKoI",
    "outputId": "0d447781-5199-49b7-a609-dfc2e731691f"
   },
   "outputs": [
    {
     "name": "stdout",
     "output_type": "stream",
     "text": [
      "33/33 [==============================] - 0s 3ms/step\n"
     ]
    }
   ],
   "source": [
    "# make prediction \n",
    "\n",
    "testPredict = single_step_model.predict(testX, batch_size = 64,verbose=1) \n",
    "  \n",
    "  "
   ]
  },
  {
   "cell_type": "code",
   "execution_count": 436,
   "metadata": {
    "colab": {
     "base_uri": "https://localhost:8080/",
     "height": 33
    },
    "colab_type": "code",
    "id": "9f1IrgEBV-Cz",
    "outputId": "05163dea-9106-4893-c076-44e0c73f95cd"
   },
   "outputs": [
    {
     "data": {
      "text/plain": [
       "(7259,)"
      ]
     },
     "execution_count": 436,
     "metadata": {
      "tags": []
     },
     "output_type": "execute_result"
    }
   ],
   "source": [
    " trainPredict[:,0].shape"
   ]
  },
  {
   "cell_type": "markdown",
   "metadata": {
    "colab_type": "text",
    "id": "kNJ_j3o4Y1dv"
   },
   "source": [
    "## Calcuate Metrics\n"
   ]
  },
  {
   "cell_type": "code",
   "execution_count": 0,
   "metadata": {
    "colab": {},
    "colab_type": "code",
    "id": "lEHre-tcY7MK"
   },
   "outputs": [],
   "source": [
    "def calculate_mape(y_true, y_pred):\n",
    "    \"\"\" Calculate mean absolute percentage error (MAPE)\"\"\"\n",
    "    return np.mean(np.abs((y_true - y_pred) / y_true)) * 100\n",
    "\n",
    "def calculate_mpe(y_true, y_pred):\n",
    "    \"\"\" Calculate mean percentage error (MPE)\"\"\"\n",
    "    return np.mean((y_true - y_pred) / y_true) * 100\n",
    "\n",
    "def calculate_mae(y_true, y_pred):\n",
    "    \"\"\" Calculate mean absolute error (MAE)\"\"\"\n",
    "    return np.mean(np.abs(y_true - y_pred), axis = 1) \n",
    "\n",
    "def calculate_rmse(y_true, y_pred):\n",
    "    \"\"\" Calculate root mean square error (RMSE)\"\"\"\n",
    "    return np.sqrt(np.mean((y_true - y_pred)**2))\n",
    "\n",
    "def print_error_metrics(y_true, y_pred):\n",
    "    print('MAPE: %f'%calculate_mape(y_true, y_pred))\n",
    "    print('MPE: %f'%calculate_mpe(y_true, y_pred))\n",
    "    print('MAE: %f'%calculate_mae(y_true, y_pred))\n",
    "    print('RMSE: %f'%calculate_rmse(y_true, y_pred))\n",
    "    return"
   ]
  },
  {
   "cell_type": "code",
   "execution_count": 589,
   "metadata": {
    "colab": {
     "base_uri": "https://localhost:8080/",
     "height": 33
    },
    "colab_type": "code",
    "id": "gjd5r4X-D3wI",
    "outputId": "13f84dc0-46b1-44d3-df69-f8835e800f7e"
   },
   "outputs": [
    {
     "data": {
      "text/plain": [
       "1935.1742740500883"
      ]
     },
     "execution_count": 589,
     "metadata": {
      "tags": []
     },
     "output_type": "execute_result"
    }
   ],
   "source": [
    "np.mean(np.abs(trainY_.T - trainPredict_.T))"
   ]
  },
  {
   "cell_type": "code",
   "execution_count": 441,
   "metadata": {
    "colab": {
     "base_uri": "https://localhost:8080/",
     "height": 50
    },
    "colab_type": "code",
    "id": "nJHT5CAJzlDi",
    "outputId": "6b1f9972-5e7f-4f34-8420-28041542b40a"
   },
   "outputs": [
    {
     "data": {
      "text/plain": [
       "array([0.08128379, 0.08550055, 0.09292823, 0.07253402, 0.07649822,\n",
       "       0.08620831, 0.0816889 , 0.07962012, 0.08017224, 0.08019394])"
      ]
     },
     "execution_count": 441,
     "metadata": {
      "tags": []
     },
     "output_type": "execute_result"
    }
   ],
   "source": [
    "trainY[0:10]"
   ]
  },
  {
   "cell_type": "code",
   "execution_count": 0,
   "metadata": {
    "colab": {},
    "colab_type": "code",
    "id": "TjbMDwQ2Z_-K"
   },
   "outputs": [],
   "source": [
    "trainY_ = data_min[0] + (data_max[0] - data_min[0])*trainY\n",
    "\n"
   ]
  },
  {
   "cell_type": "code",
   "execution_count": 443,
   "metadata": {
    "colab": {
     "base_uri": "https://localhost:8080/",
     "height": 50
    },
    "colab_type": "code",
    "id": "A-kgjEkczvTP",
    "outputId": "dfa58002-6e93-40b1-b690-397a903976d7"
   },
   "outputs": [
    {
     "data": {
      "text/plain": [
       "array([16555.11, 17413.94, 18926.74, 14773.04, 15580.43, 17558.09,\n",
       "       16637.62, 16216.27, 16328.72, 16333.14])"
      ]
     },
     "execution_count": 443,
     "metadata": {
      "tags": []
     },
     "output_type": "execute_result"
    }
   ],
   "source": [
    "trainY_[:10]"
   ]
  },
  {
   "cell_type": "code",
   "execution_count": 0,
   "metadata": {
    "colab": {},
    "colab_type": "code",
    "id": "egnC3SJw0CTv"
   },
   "outputs": [],
   "source": [
    "trainPredict_ = data_min[0] + (data_max[0] - data_min[0])*trainPredict"
   ]
  },
  {
   "cell_type": "code",
   "execution_count": 446,
   "metadata": {
    "colab": {
     "base_uri": "https://localhost:8080/",
     "height": 184
    },
    "colab_type": "code",
    "id": "ZzfuFovo0EMZ",
    "outputId": "78cc7f69-9c49-452e-ea95-dc19446d3a8e"
   },
   "outputs": [
    {
     "data": {
      "text/plain": [
       "array([[15070.636],\n",
       "       [17619.75 ],\n",
       "       [15044.565],\n",
       "       [15807.555],\n",
       "       [16317.884],\n",
       "       [16617.604],\n",
       "       [16807.74 ],\n",
       "       [16745.533],\n",
       "       [16507.13 ],\n",
       "       [16085.377]], dtype=float32)"
      ]
     },
     "execution_count": 446,
     "metadata": {
      "tags": []
     },
     "output_type": "execute_result"
    }
   ],
   "source": [
    "trainPredict_[:10]"
   ]
  },
  {
   "cell_type": "code",
   "execution_count": 0,
   "metadata": {
    "colab": {},
    "colab_type": "code",
    "id": "rOm_WkX3zs2y"
   },
   "outputs": [],
   "source": [
    "\n",
    "testY_ = data_min[0] + (data_max[0] - data_min[0])*testY\n",
    "testPredict_ = data_min[0] +  (data_max[0] - data_min[0])*testPredict\n"
   ]
  },
  {
   "cell_type": "code",
   "execution_count": 468,
   "metadata": {
    "colab": {
     "base_uri": "https://localhost:8080/",
     "height": 50
    },
    "colab_type": "code",
    "id": "le6MynILj_7e",
    "outputId": "166296d7-41c1-4d86-831d-3394bab930b6"
   },
   "outputs": [
    {
     "data": {
      "text/plain": [
       "array([34684.21, 16976.19, 16347.6 , 17147.44, 18164.2 , 18517.79,\n",
       "       16963.55, 16065.49, 17666.  , 17558.82])"
      ]
     },
     "execution_count": 468,
     "metadata": {
      "tags": []
     },
     "output_type": "execute_result"
    }
   ],
   "source": [
    "testY_[:10]"
   ]
  },
  {
   "cell_type": "code",
   "execution_count": 471,
   "metadata": {
    "colab": {
     "base_uri": "https://localhost:8080/",
     "height": 184
    },
    "colab_type": "code",
    "id": "mGwl9aR1cflq",
    "outputId": "5f8fe70d-70a9-4052-837d-a771a9704b12"
   },
   "outputs": [
    {
     "data": {
      "text/plain": [
       "array([[25329.416],\n",
       "       [24644.826],\n",
       "       [22894.38 ],\n",
       "       [21553.123],\n",
       "       [20036.184],\n",
       "       [19266.922],\n",
       "       [18878.258],\n",
       "       [18445.611],\n",
       "       [18078.736],\n",
       "       [17924.754]], dtype=float32)"
      ]
     },
     "execution_count": 471,
     "metadata": {
      "tags": []
     },
     "output_type": "execute_result"
    }
   ],
   "source": [
    "testPredict_[:10]"
   ]
  },
  {
   "cell_type": "code",
   "execution_count": 578,
   "metadata": {
    "colab": {
     "base_uri": "https://localhost:8080/",
     "height": 50
    },
    "colab_type": "code",
    "id": "yW-364yEBx04",
    "outputId": "867b08cb-762a-4cb4-c4da-dbc009817e4d"
   },
   "outputs": [
    {
     "data": {
      "text/plain": [
       "array([16555.11, 17413.94, 18926.74, 14773.04, 15580.43, 17558.09,\n",
       "       16637.62, 16216.27, 16328.72, 16333.14])"
      ]
     },
     "execution_count": 578,
     "metadata": {
      "tags": []
     },
     "output_type": "execute_result"
    }
   ],
   "source": [
    "trainY_[:10]"
   ]
  },
  {
   "cell_type": "code",
   "execution_count": 579,
   "metadata": {
    "colab": {
     "base_uri": "https://localhost:8080/",
     "height": 184
    },
    "colab_type": "code",
    "id": "t5nPweY0B0yN",
    "outputId": "79860a92-c428-4f72-df40-21774f65f1c2"
   },
   "outputs": [
    {
     "data": {
      "text/plain": [
       "array([[16897.26 ],\n",
       "       [17556.314],\n",
       "       [15505.284],\n",
       "       [15547.154],\n",
       "       [15592.684],\n",
       "       [16288.574],\n",
       "       [16779.316],\n",
       "       [16304.322],\n",
       "       [15742.861],\n",
       "       [15306.354]], dtype=float32)"
      ]
     },
     "execution_count": 579,
     "metadata": {
      "tags": []
     },
     "output_type": "execute_result"
    }
   ],
   "source": [
    "trainPredict_[:10]"
   ]
  },
  {
   "cell_type": "code",
   "execution_count": 0,
   "metadata": {
    "colab": {},
    "colab_type": "code",
    "id": "vxDLiZbWCDYT"
   },
   "outputs": [],
   "source": [
    "df_output = pd.DataFrame()\n",
    "df_output['Trainoriginal']= trainY_\n",
    "df_output['Trainpred'] = trainPredict_\n",
    "df_output.to_csv('Predtrain.csv')\n"
   ]
  },
  {
   "cell_type": "code",
   "execution_count": 0,
   "metadata": {
    "colab": {},
    "colab_type": "code",
    "id": "bFG5SbrLC4oV"
   },
   "outputs": [],
   "source": [
    "df_output = pd.DataFrame()\n",
    "df_output['Testoriginal']= testY_\n",
    "df_output['Testpred'] = testPredict_\n",
    "df_output.to_csv('Predtest.csv')"
   ]
  },
  {
   "cell_type": "code",
   "execution_count": 0,
   "metadata": {
    "colab": {
     "base_uri": "https://localhost:8080/",
     "height": 150
    },
    "colab_type": "code",
    "id": "8i8i9UaBmiPH",
    "outputId": "0bf6d1c1-0771-4225-ce58-21149ca1179b"
   },
   "outputs": [
    {
     "name": "stdout",
     "output_type": "stream",
     "text": [
      "MAPE: inf\n",
      "MPE: -inf\n",
      "MAE: 1935.174274\n",
      "RMSE: 4428.078475\n"
     ]
    },
    {
     "name": "stderr",
     "output_type": "stream",
     "text": [
      "/usr/local/lib/python3.6/dist-packages/ipykernel_launcher.py:3: RuntimeWarning: divide by zero encountered in true_divide\n",
      "  This is separate from the ipykernel package so we can avoid doing imports until\n",
      "/usr/local/lib/python3.6/dist-packages/ipykernel_launcher.py:7: RuntimeWarning: divide by zero encountered in true_divide\n",
      "  import sys\n"
     ]
    }
   ],
   "source": [
    "# metrics for Train dataset\n",
    "print_error_metrics(trainY_.T, trainPredict_.T)\n"
   ]
  },
  {
   "cell_type": "code",
   "execution_count": 591,
   "metadata": {
    "colab": {
     "base_uri": "https://localhost:8080/",
     "height": 150
    },
    "colab_type": "code",
    "id": "W5_PiyI9cQZ_",
    "outputId": "adab949e-2bcb-4f4f-8b19-88c05624cd16"
   },
   "outputs": [
    {
     "name": "stdout",
     "output_type": "stream",
     "text": [
      "MAPE: inf\n",
      "MPE: -inf\n",
      "MAE: 2464.720207\n",
      "RMSE: 4179.725726\n"
     ]
    },
    {
     "name": "stderr",
     "output_type": "stream",
     "text": [
      "/usr/local/lib/python3.6/dist-packages/ipykernel_launcher.py:3: RuntimeWarning: divide by zero encountered in true_divide\n",
      "  This is separate from the ipykernel package so we can avoid doing imports until\n",
      "/usr/local/lib/python3.6/dist-packages/ipykernel_launcher.py:7: RuntimeWarning: divide by zero encountered in true_divide\n",
      "  import sys\n"
     ]
    }
   ],
   "source": [
    "#metrics for test dataset\n",
    "print_error_metrics(testY_.T, testPredict_.T)\n"
   ]
  },
  {
   "cell_type": "code",
   "execution_count": 576,
   "metadata": {
    "colab": {
     "base_uri": "https://localhost:8080/",
     "height": 312
    },
    "colab_type": "code",
    "id": "77z1kYiPBo2q",
    "outputId": "74d6b68d-19e3-4dc2-c345-05bb7d9cd34c"
   },
   "outputs": [
    {
     "data": {
      "text/plain": [
       "Text(0, 0.5, 'Actual Weekly Sales')"
      ]
     },
     "execution_count": 576,
     "metadata": {
      "tags": []
     },
     "output_type": "execute_result"
    },
    {
     "data": {
      "image/png": "[encoded data removed]",
      "text/plain": [
       "<Figure size 432x288 with 1 Axes>"
      ]
     },
     "metadata": {
      "tags": []
     },
     "output_type": "display_data"
    }
   ],
   "source": [
    "plt.scatter(trainY_, trainPredict_[:,])\n",
    "plt.title('Predicted Vs. Actual Weekly Sales')\n",
    "plt.xlabel('Predicted Weekly Sales')\n",
    "plt.ylabel('Actual Weekly Sales')\n",
    "#plt.xlim(-1, 15)\n",
    "#plt.ylim(-1, 15)\n"
   ]
  },
  {
   "cell_type": "code",
   "execution_count": 577,
   "metadata": {
    "colab": {
     "base_uri": "https://localhost:8080/",
     "height": 312
    },
    "colab_type": "code",
    "id": "hpuisq2O1Y35",
    "outputId": "a58a8c20-f376-46a6-c171-e99e64e0116e"
   },
   "outputs": [
    {
     "data": {
      "text/plain": [
       "Text(0, 0.5, 'Actual Weekly Sales')"
      ]
     },
     "execution_count": 577,
     "metadata": {
      "tags": []
     },
     "output_type": "execute_result"
    },
    {
     "data": {
      "image/png": "[encoded data removed]",
      "text/plain": [
       "<Figure size 432x288 with 1 Axes>"
      ]
     },
     "metadata": {
      "tags": []
     },
     "output_type": "display_data"
    }
   ],
   "source": [
    "plt.scatter(testY_, testPredict_[:,])\n",
    "plt.title('Predicted Vs. Actual Weekly Sales')\n",
    "plt.xlabel('Predicted Weekly Sales')\n",
    "plt.ylabel('Actual Weekly Sales')"
   ]
  },
  {
   "cell_type": "code",
   "execution_count": 451,
   "metadata": {
    "colab": {
     "base_uri": "https://localhost:8080/",
     "height": 33
    },
    "colab_type": "code",
    "id": "h1eUJO_DDXmV",
    "outputId": "3552fb21-ecd4-48ad-e333-9f4994901a23"
   },
   "outputs": [
    {
     "data": {
      "text/plain": [
       "0.97407974974928"
      ]
     },
     "execution_count": 451,
     "metadata": {
      "tags": []
     },
     "output_type": "execute_result"
    }
   ],
   "source": [
    "from sklearn.metrics import r2_score\n",
    "r2_score(testY, testPredict[:,0])"
   ]
  },
  {
   "cell_type": "code",
   "execution_count": 0,
   "metadata": {
    "colab": {
     "base_uri": "https://localhost:8080/",
     "height": 34
    },
    "colab_type": "code",
    "id": "dSQpnBeXVu3F",
    "outputId": "62b21288-f9f8-43ea-eb28-e08ce554bbaf"
   },
   "outputs": [
    {
     "data": {
      "text/plain": [
       "(48641, 1)"
      ]
     },
     "execution_count": 53,
     "metadata": {
      "tags": []
     },
     "output_type": "execute_result"
    }
   ],
   "source": [
    "testPredict.shape"
   ]
  },
  {
   "cell_type": "code",
   "execution_count": 0,
   "metadata": {
    "colab": {
     "base_uri": "https://localhost:8080/",
     "height": 399
    },
    "colab_type": "code",
    "id": "pBUrqDBIm0lU",
    "outputId": "47bd4154-2dc8-4b51-bd8b-ba66724c47cb"
   },
   "outputs": [
    {
     "data": {
      "image/png": "[encoded data removed]",
      "text/plain": [
       "<Figure size 576x432 with 1 Axes>"
      ]
     },
     "metadata": {
      "tags": []
     },
     "output_type": "display_data"
    }
   ],
   "source": [
    "data = pd.concat([df_store_weeklysales['Store'], df_store_weeklysales['Weekly_Sales']], axis=1)\n",
    "f, ax = plt.subplots(figsize=(8, 6))\n",
    "fig = sns.boxplot(x='Store', y='Weekly_Sales', data=data)"
   ]
  },
  {
   "cell_type": "markdown",
   "metadata": {
    "colab_type": "text",
    "id": "dY01VMKLm9SV"
   },
   "source": [
    "\n",
    "# 3. Our winner is Multivariate Recurrent Neural Network with with R square around 98% and RSME of 2k."
   ]
  }
 ],
 "metadata": {
  "accelerator": "GPU",
  "colab": {
   "collapsed_sections": [],
   "name": "Walmart_TimeSeries_LSTM_StoreExample.ipynb",
   "provenance": []
  },
  "kernelspec": {
   "display_name": "Python 3",
   "language": "python",
   "name": "python3"
  },
  "language_info": {
   "codemirror_mode": {
    "name": "ipython",
    "version": 3
   },
   "file_extension": ".py",
   "mimetype": "text/x-python",
   "name": "python",
   "nbconvert_exporter": "python",
   "pygments_lexer": "ipython3",
   "version": "3.6.4"
  }
 },
 "nbformat": 4,
 "nbformat_minor": 1
}
